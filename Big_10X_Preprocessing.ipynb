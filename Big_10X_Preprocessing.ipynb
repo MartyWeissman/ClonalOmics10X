{
 "cells": [
  {
   "cell_type": "markdown",
   "id": "426da71f",
   "metadata": {},
   "source": [
    "# Clonality analysis in 10X data\n",
    "\n",
    "September 2022 draft"
   ]
  },
  {
   "cell_type": "markdown",
   "id": "2e74ece6",
   "metadata": {},
   "source": [
    "# Loading packages"
   ]
  },
  {
   "cell_type": "code",
   "execution_count": 1,
   "id": "f5065f5a",
   "metadata": {},
   "outputs": [
    {
     "name": "stdout",
     "output_type": "stream",
     "text": [
      "scanpy==1.7.1 anndata==0.7.6 umap==0.5.1 numpy==1.20.1 scipy==1.6.1 pandas==1.2.3 scikit-learn==0.24.1 statsmodels==0.12.2 python-igraph==0.8.3 louvain==0.7.0 leidenalg==0.8.3\n"
     ]
    }
   ],
   "source": [
    "import pandas as pd  # Pandas for data analysis.\n",
    "import numpy as np\n",
    "import scipy.stats as ss\n",
    "import matplotlib.pyplot as plt  # For basic plotting.\n",
    "import seaborn as sns # For pretty visualization in Seaborn.  See https://seaborn.pydata.org/\n",
    "from IPython.display import display # Pretty display of data frames.\n",
    "\n",
    "from sklearn import base\n",
    "from sklearn.feature_selection import chi2, f_classif\n",
    "\n",
    "import scanpy as sc\n",
    "sc.settings.verbosity = 1             # verbosity: errors (0), warnings (1), info (2), hints (3)\n",
    "sc.logging.print_header()\n",
    "sc.settings.set_figure_params(dpi=80, facecolor='white')\n",
    "\n",
    "# Put plots inline rather than in a pop-up.\n",
    "%matplotlib inline"
   ]
  },
  {
   "cell_type": "code",
   "execution_count": 2,
   "id": "6848eefc",
   "metadata": {},
   "outputs": [],
   "source": [
    "def hrule(repchar = '=', length=80):\n",
    "    '''\n",
    "    A quick function to print a horizontal line.\n",
    "    '''\n",
    "    if len(repchar) == 1:\n",
    "        print(repchar*length)"
   ]
  },
  {
   "cell_type": "markdown",
   "id": "d1ccc687",
   "metadata": {},
   "source": [
    "# Loading data\n",
    "\n",
    "## Loading a big Loom file"
   ]
  },
  {
   "cell_type": "code",
   "execution_count": 3,
   "id": "3305ba18",
   "metadata": {},
   "outputs": [],
   "source": [
    "filename = 'Raw/JM_10X_merged.loom'"
   ]
  },
  {
   "cell_type": "code",
   "execution_count": 4,
   "id": "7f5e84fa",
   "metadata": {},
   "outputs": [],
   "source": [
    "JM_all = sc.read_loom(filename)"
   ]
  },
  {
   "cell_type": "code",
   "execution_count": 5,
   "id": "c16a8188",
   "metadata": {},
   "outputs": [
    {
     "data": {
      "text/plain": [
       "AnnData object with n_obs × n_vars = 46913 × 36601\n",
       "    obs: 'clone_id', 'hash.ID', 'nCount_CH', 'nCount_RNA', 'nFeature_CH', 'nFeature_RNA', 'orig.ident', 'percent.mt'\n",
       "    layers: 'counts'"
      ]
     },
     "execution_count": 5,
     "metadata": {},
     "output_type": "execute_result"
    }
   ],
   "source": [
    "JM_all"
   ]
  },
  {
   "cell_type": "code",
   "execution_count": 6,
   "id": "f6154ca9",
   "metadata": {},
   "outputs": [
    {
     "data": {
      "text/html": [
       "<div>\n",
       "<style scoped>\n",
       "    .dataframe tbody tr th:only-of-type {\n",
       "        vertical-align: middle;\n",
       "    }\n",
       "\n",
       "    .dataframe tbody tr th {\n",
       "        vertical-align: top;\n",
       "    }\n",
       "\n",
       "    .dataframe thead th {\n",
       "        text-align: right;\n",
       "    }\n",
       "</style>\n",
       "<table border=\"1\" class=\"dataframe\">\n",
       "  <thead>\n",
       "    <tr style=\"text-align: right;\">\n",
       "      <th></th>\n",
       "      <th>clone_id</th>\n",
       "      <th>hash.ID</th>\n",
       "      <th>nCount_CH</th>\n",
       "      <th>nCount_RNA</th>\n",
       "      <th>nFeature_CH</th>\n",
       "      <th>nFeature_RNA</th>\n",
       "      <th>orig.ident</th>\n",
       "      <th>percent.mt</th>\n",
       "    </tr>\n",
       "    <tr>\n",
       "      <th>CellID</th>\n",
       "      <th></th>\n",
       "      <th></th>\n",
       "      <th></th>\n",
       "      <th></th>\n",
       "      <th></th>\n",
       "      <th></th>\n",
       "      <th></th>\n",
       "      <th></th>\n",
       "    </tr>\n",
       "  </thead>\n",
       "  <tbody>\n",
       "    <tr>\n",
       "      <th>exp1_AAACCTGAGACAGGCT-1</th>\n",
       "      <td>exp1_2</td>\n",
       "      <td>exp1_Sample 2</td>\n",
       "      <td>1028.0</td>\n",
       "      <td>6876.0</td>\n",
       "      <td>6</td>\n",
       "      <td>2669</td>\n",
       "      <td>exp1</td>\n",
       "      <td>3.955788</td>\n",
       "    </tr>\n",
       "    <tr>\n",
       "      <th>exp1_AAACCTGAGCCCAATT-1</th>\n",
       "      <td>exp1_non</td>\n",
       "      <td>exp1_Sample 1</td>\n",
       "      <td>2166.0</td>\n",
       "      <td>6246.0</td>\n",
       "      <td>6</td>\n",
       "      <td>2368</td>\n",
       "      <td>exp1</td>\n",
       "      <td>2.161383</td>\n",
       "    </tr>\n",
       "    <tr>\n",
       "      <th>exp1_AAACCTGAGGACAGAA-1</th>\n",
       "      <td>exp1_non</td>\n",
       "      <td>exp1_Sample 6</td>\n",
       "      <td>813.0</td>\n",
       "      <td>4615.0</td>\n",
       "      <td>6</td>\n",
       "      <td>1718</td>\n",
       "      <td>exp1</td>\n",
       "      <td>2.665222</td>\n",
       "    </tr>\n",
       "    <tr>\n",
       "      <th>exp1_AAACCTGCAACAACCT-1</th>\n",
       "      <td>exp1_5</td>\n",
       "      <td>exp1_Sample 5</td>\n",
       "      <td>1092.0</td>\n",
       "      <td>11565.0</td>\n",
       "      <td>6</td>\n",
       "      <td>3613</td>\n",
       "      <td>exp1</td>\n",
       "      <td>2.075227</td>\n",
       "    </tr>\n",
       "    <tr>\n",
       "      <th>exp1_AAACCTGCAGACACTT-1</th>\n",
       "      <td>exp1_7</td>\n",
       "      <td>exp1_Sample 4</td>\n",
       "      <td>847.0</td>\n",
       "      <td>4440.0</td>\n",
       "      <td>6</td>\n",
       "      <td>2005</td>\n",
       "      <td>exp1</td>\n",
       "      <td>0.990991</td>\n",
       "    </tr>\n",
       "    <tr>\n",
       "      <th>...</th>\n",
       "      <td>...</td>\n",
       "      <td>...</td>\n",
       "      <td>...</td>\n",
       "      <td>...</td>\n",
       "      <td>...</td>\n",
       "      <td>...</td>\n",
       "      <td>...</td>\n",
       "      <td>...</td>\n",
       "    </tr>\n",
       "    <tr>\n",
       "      <th>exp3_TTTGTCATCCCACTTG-1</th>\n",
       "      <td>exp3_7</td>\n",
       "      <td>exp3_Sample 5</td>\n",
       "      <td>315.0</td>\n",
       "      <td>2752.0</td>\n",
       "      <td>6</td>\n",
       "      <td>1475</td>\n",
       "      <td>exp3</td>\n",
       "      <td>0.109012</td>\n",
       "    </tr>\n",
       "    <tr>\n",
       "      <th>exp3_TTTGTCATCCTATGTT-1</th>\n",
       "      <td>exp3_9</td>\n",
       "      <td>exp3_Sample 3</td>\n",
       "      <td>379.0</td>\n",
       "      <td>2357.0</td>\n",
       "      <td>5</td>\n",
       "      <td>1369</td>\n",
       "      <td>exp3</td>\n",
       "      <td>0.551549</td>\n",
       "    </tr>\n",
       "    <tr>\n",
       "      <th>exp3_TTTGTCATCCTCAATT-1</th>\n",
       "      <td>exp3_4</td>\n",
       "      <td>exp3_Sample 3</td>\n",
       "      <td>222.0</td>\n",
       "      <td>2895.0</td>\n",
       "      <td>6</td>\n",
       "      <td>1508</td>\n",
       "      <td>exp3</td>\n",
       "      <td>0.725389</td>\n",
       "    </tr>\n",
       "    <tr>\n",
       "      <th>exp3_TTTGTCATCGCGCCAA-1</th>\n",
       "      <td>exp3_15</td>\n",
       "      <td>exp3_Sample 1</td>\n",
       "      <td>1096.0</td>\n",
       "      <td>4231.0</td>\n",
       "      <td>6</td>\n",
       "      <td>2055</td>\n",
       "      <td>exp3</td>\n",
       "      <td>1.134484</td>\n",
       "    </tr>\n",
       "    <tr>\n",
       "      <th>exp3_TTTGTCATCGTTACAG-1</th>\n",
       "      <td>exp3_7</td>\n",
       "      <td>exp3_Sample 5</td>\n",
       "      <td>247.0</td>\n",
       "      <td>2795.0</td>\n",
       "      <td>6</td>\n",
       "      <td>1591</td>\n",
       "      <td>exp3</td>\n",
       "      <td>1.037567</td>\n",
       "    </tr>\n",
       "  </tbody>\n",
       "</table>\n",
       "<p>46913 rows × 8 columns</p>\n",
       "</div>"
      ],
      "text/plain": [
       "                         clone_id        hash.ID  nCount_CH  nCount_RNA  \\\n",
       "CellID                                                                    \n",
       "exp1_AAACCTGAGACAGGCT-1    exp1_2  exp1_Sample 2     1028.0      6876.0   \n",
       "exp1_AAACCTGAGCCCAATT-1  exp1_non  exp1_Sample 1     2166.0      6246.0   \n",
       "exp1_AAACCTGAGGACAGAA-1  exp1_non  exp1_Sample 6      813.0      4615.0   \n",
       "exp1_AAACCTGCAACAACCT-1    exp1_5  exp1_Sample 5     1092.0     11565.0   \n",
       "exp1_AAACCTGCAGACACTT-1    exp1_7  exp1_Sample 4      847.0      4440.0   \n",
       "...                           ...            ...        ...         ...   \n",
       "exp3_TTTGTCATCCCACTTG-1    exp3_7  exp3_Sample 5      315.0      2752.0   \n",
       "exp3_TTTGTCATCCTATGTT-1    exp3_9  exp3_Sample 3      379.0      2357.0   \n",
       "exp3_TTTGTCATCCTCAATT-1    exp3_4  exp3_Sample 3      222.0      2895.0   \n",
       "exp3_TTTGTCATCGCGCCAA-1   exp3_15  exp3_Sample 1     1096.0      4231.0   \n",
       "exp3_TTTGTCATCGTTACAG-1    exp3_7  exp3_Sample 5      247.0      2795.0   \n",
       "\n",
       "                         nFeature_CH  nFeature_RNA orig.ident  percent.mt  \n",
       "CellID                                                                     \n",
       "exp1_AAACCTGAGACAGGCT-1            6          2669       exp1    3.955788  \n",
       "exp1_AAACCTGAGCCCAATT-1            6          2368       exp1    2.161383  \n",
       "exp1_AAACCTGAGGACAGAA-1            6          1718       exp1    2.665222  \n",
       "exp1_AAACCTGCAACAACCT-1            6          3613       exp1    2.075227  \n",
       "exp1_AAACCTGCAGACACTT-1            6          2005       exp1    0.990991  \n",
       "...                              ...           ...        ...         ...  \n",
       "exp3_TTTGTCATCCCACTTG-1            6          1475       exp3    0.109012  \n",
       "exp3_TTTGTCATCCTATGTT-1            5          1369       exp3    0.551549  \n",
       "exp3_TTTGTCATCCTCAATT-1            6          1508       exp3    0.725389  \n",
       "exp3_TTTGTCATCGCGCCAA-1            6          2055       exp3    1.134484  \n",
       "exp3_TTTGTCATCGTTACAG-1            6          1591       exp3    1.037567  \n",
       "\n",
       "[46913 rows x 8 columns]"
      ]
     },
     "execution_count": 6,
     "metadata": {},
     "output_type": "execute_result"
    }
   ],
   "source": [
    "JM_all.obs # Examine cell metadata."
   ]
  },
  {
   "cell_type": "code",
   "execution_count": 7,
   "id": "385dd36b",
   "metadata": {},
   "outputs": [
    {
     "data": {
      "text/html": [
       "<div>\n",
       "<style scoped>\n",
       "    .dataframe tbody tr th:only-of-type {\n",
       "        vertical-align: middle;\n",
       "    }\n",
       "\n",
       "    .dataframe tbody tr th {\n",
       "        vertical-align: top;\n",
       "    }\n",
       "\n",
       "    .dataframe thead th {\n",
       "        text-align: right;\n",
       "    }\n",
       "</style>\n",
       "<table border=\"1\" class=\"dataframe\">\n",
       "  <thead>\n",
       "    <tr style=\"text-align: right;\">\n",
       "      <th></th>\n",
       "    </tr>\n",
       "    <tr>\n",
       "      <th>Gene</th>\n",
       "    </tr>\n",
       "  </thead>\n",
       "  <tbody>\n",
       "    <tr>\n",
       "      <th>MIR1302-2HG</th>\n",
       "    </tr>\n",
       "    <tr>\n",
       "      <th>FAM138A</th>\n",
       "    </tr>\n",
       "    <tr>\n",
       "      <th>OR4F5</th>\n",
       "    </tr>\n",
       "    <tr>\n",
       "      <th>AL627309.1</th>\n",
       "    </tr>\n",
       "    <tr>\n",
       "      <th>AL627309.3</th>\n",
       "    </tr>\n",
       "    <tr>\n",
       "      <th>...</th>\n",
       "    </tr>\n",
       "    <tr>\n",
       "      <th>AC141272.1</th>\n",
       "    </tr>\n",
       "    <tr>\n",
       "      <th>AC023491.2</th>\n",
       "    </tr>\n",
       "    <tr>\n",
       "      <th>AC007325.1</th>\n",
       "    </tr>\n",
       "    <tr>\n",
       "      <th>AC007325.4</th>\n",
       "    </tr>\n",
       "    <tr>\n",
       "      <th>AC007325.2</th>\n",
       "    </tr>\n",
       "  </tbody>\n",
       "</table>\n",
       "<p>36601 rows × 0 columns</p>\n",
       "</div>"
      ],
      "text/plain": [
       "Empty DataFrame\n",
       "Columns: []\n",
       "Index: [MIR1302-2HG, FAM138A, OR4F5, AL627309.1, AL627309.3, AL627309.2, AL627309.5, AL627309.4, AP006222.2, AL732372.1, OR4F29, AC114498.1, OR4F16, AL669831.2, LINC01409, FAM87B, LINC01128, LINC00115, FAM41C, AL645608.6, AL645608.2, AL645608.4, LINC02593, SAMD11, NOC2L, KLHL17, PLEKHN1, PERM1, AL645608.7, HES4, ISG15, AL645608.1, AGRN, AL645608.5, AL645608.8, RNF223, C1orf159, AL390719.3, LINC01342, AL390719.2, TTLL10-AS1, TTLL10, TNFRSF18, TNFRSF4, SDF4, B3GALT6, C1QTNF12, AL162741.1, UBE2J2, LINC01786, SCNN1D, ACAP3, PUSL1, INTS11, AL139287.1, CPTP, TAS1R3, DVL1, MXRA8, AURKAIP1, CCNL2, MRPL20-AS1, MRPL20, AL391244.2, ANKRD65, AL391244.1, TMEM88B, LINC01770, VWA1, ATAD3C, ATAD3B, ATAD3A, TMEM240, SSU72, AL645728.1, FNDC10, AL691432.4, AL691432.2, MIB2, MMP23B, CDK11B, FO704657.1, SLC35E2B, CDK11A, SLC35E2A, NADK, GNB1, AL109917.1, CALML6, TMEM52, CFAP74, AL391845.2, GABRD, AL391845.1, PRKCZ, AL590822.2, PRKCZ-AS1, FAAP20, AL590822.1, SKI, ...]\n",
       "\n",
       "[36601 rows x 0 columns]"
      ]
     },
     "execution_count": 7,
     "metadata": {},
     "output_type": "execute_result"
    }
   ],
   "source": [
    "JM_all.var # Examine gene metadata... pretty blank!"
   ]
  },
  {
   "cell_type": "code",
   "execution_count": 8,
   "id": "5785c9d2",
   "metadata": {},
   "outputs": [
    {
     "data": {
      "text/plain": [
       "exp3    22277\n",
       "exp1    13493\n",
       "exp2    11143\n",
       "Name: orig.ident, dtype: int64"
      ]
     },
     "execution_count": 8,
     "metadata": {},
     "output_type": "execute_result"
    }
   ],
   "source": [
    "JM_all.obs['orig.ident'].value_counts() # Cell counts in each experiment."
   ]
  },
  {
   "cell_type": "code",
   "execution_count": 9,
   "id": "e89ab7b4",
   "metadata": {},
   "outputs": [
    {
     "data": {
      "text/plain": [
       "<46913x36601 sparse matrix of type '<class 'numpy.float64'>'\n",
       "\twith 93347218 stored elements in Compressed Sparse Row format>"
      ]
     },
     "execution_count": 9,
     "metadata": {},
     "output_type": "execute_result"
    }
   ],
   "source": [
    "JM_all.layers['counts']"
   ]
  },
  {
   "cell_type": "code",
   "execution_count": 10,
   "id": "76e56411",
   "metadata": {},
   "outputs": [
    {
     "data": {
      "text/plain": [
       "exp3_Sample 1    7042\n",
       "exp3_Sample 4    5449\n",
       "exp3_Sample 2    3868\n",
       "exp3_Sample 3    3106\n",
       "exp2_Sample 5    2979\n",
       "exp2_Sample 6    2596\n",
       "exp1_Sample 4    2495\n",
       "exp1_Sample 3    2366\n",
       "exp1_Sample 6    2334\n",
       "exp1_Sample 2    2260\n",
       "exp1_Sample 5    2202\n",
       "exp2_Sample 2    1842\n",
       "exp1_Sample 1    1836\n",
       "exp2_Sample 4    1829\n",
       "exp3_Sample 5    1759\n",
       "exp2_Sample 3    1353\n",
       "exp3_Sample 6    1053\n",
       "exp2_Sample 1     544\n",
       "Name: hash.ID, dtype: int64"
      ]
     },
     "execution_count": 10,
     "metadata": {},
     "output_type": "execute_result"
    }
   ],
   "source": [
    "JM_all.obs['hash.ID'].value_counts() # Sample counts for each experiment."
   ]
  },
  {
   "cell_type": "markdown",
   "id": "3c601aa2",
   "metadata": {},
   "source": [
    "The data indicates a possible problem -- misidentifying clones/well hashtags perhaps.  Each clone should only be found in one well (wells = Samples 1-6) in Experiment 1.  But a few cells seem to violate this.  See the table below."
   ]
  },
  {
   "cell_type": "code",
   "execution_count": 11,
   "id": "3209010a",
   "metadata": {},
   "outputs": [
    {
     "name": "stdout",
     "output_type": "stream",
     "text": [
      "Clone exp1_2\n"
     ]
    },
    {
     "data": {
      "text/plain": [
       "exp1_Sample 2    1180\n",
       "Name: hash.ID, dtype: int64"
      ]
     },
     "metadata": {},
     "output_type": "display_data"
    },
    {
     "name": "stdout",
     "output_type": "stream",
     "text": [
      "Clone exp1_non\n"
     ]
    },
    {
     "data": {
      "text/plain": [
       "exp1_Sample 1    725\n",
       "exp1_Sample 3    655\n",
       "exp1_Sample 6    565\n",
       "exp1_Sample 4    491\n",
       "exp1_Sample 2    397\n",
       "exp1_Sample 5    350\n",
       "Name: hash.ID, dtype: int64"
      ]
     },
     "metadata": {},
     "output_type": "display_data"
    },
    {
     "name": "stdout",
     "output_type": "stream",
     "text": [
      "Clone exp1_5\n"
     ]
    },
    {
     "data": {
      "text/plain": [
       "exp1_Sample 5    1517\n",
       "exp1_Sample 6       5\n",
       "exp1_Sample 2       2\n",
       "exp1_Sample 1       2\n",
       "exp1_Sample 3       1\n",
       "Name: hash.ID, dtype: int64"
      ]
     },
     "metadata": {},
     "output_type": "display_data"
    },
    {
     "name": "stdout",
     "output_type": "stream",
     "text": [
      "Clone exp1_7\n"
     ]
    },
    {
     "data": {
      "text/plain": [
       "exp1_Sample 4    542\n",
       "Name: hash.ID, dtype: int64"
      ]
     },
     "metadata": {},
     "output_type": "display_data"
    },
    {
     "name": "stdout",
     "output_type": "stream",
     "text": [
      "Clone exp1_10\n"
     ]
    },
    {
     "data": {
      "text/plain": [
       "exp1_Sample 4    241\n",
       "Name: hash.ID, dtype: int64"
      ]
     },
     "metadata": {},
     "output_type": "display_data"
    },
    {
     "name": "stdout",
     "output_type": "stream",
     "text": [
      "Clone exp1_21\n"
     ]
    },
    {
     "data": {
      "text/plain": [
       "exp1_Sample 6    520\n",
       "Name: hash.ID, dtype: int64"
      ]
     },
     "metadata": {},
     "output_type": "display_data"
    },
    {
     "name": "stdout",
     "output_type": "stream",
     "text": [
      "Clone exp1_11\n"
     ]
    },
    {
     "data": {
      "text/plain": [
       "exp1_Sample 4    482\n",
       "Name: hash.ID, dtype: int64"
      ]
     },
     "metadata": {},
     "output_type": "display_data"
    },
    {
     "name": "stdout",
     "output_type": "stream",
     "text": [
      "Clone exp1_19\n"
     ]
    },
    {
     "data": {
      "text/plain": [
       "exp1_Sample 2    309\n",
       "Name: hash.ID, dtype: int64"
      ]
     },
     "metadata": {},
     "output_type": "display_data"
    },
    {
     "name": "stdout",
     "output_type": "stream",
     "text": [
      "Clone exp1_26\n"
     ]
    },
    {
     "data": {
      "text/plain": [
       "exp1_Sample 6    220\n",
       "Name: hash.ID, dtype: int64"
      ]
     },
     "metadata": {},
     "output_type": "display_data"
    },
    {
     "name": "stdout",
     "output_type": "stream",
     "text": [
      "Clone exp1_23\n"
     ]
    },
    {
     "data": {
      "text/plain": [
       "exp1_Sample 2    263\n",
       "Name: hash.ID, dtype: int64"
      ]
     },
     "metadata": {},
     "output_type": "display_data"
    },
    {
     "name": "stdout",
     "output_type": "stream",
     "text": [
      "Clone exp1_4\n"
     ]
    },
    {
     "data": {
      "text/plain": [
       "exp1_Sample 6    908\n",
       "Name: hash.ID, dtype: int64"
      ]
     },
     "metadata": {},
     "output_type": "display_data"
    },
    {
     "name": "stdout",
     "output_type": "stream",
     "text": [
      "Clone exp1_18\n"
     ]
    },
    {
     "data": {
      "text/plain": [
       "exp1_Sample 1    82\n",
       "Name: hash.ID, dtype: int64"
      ]
     },
     "metadata": {},
     "output_type": "display_data"
    },
    {
     "name": "stdout",
     "output_type": "stream",
     "text": [
      "Clone exp1_36\n"
     ]
    },
    {
     "data": {
      "text/plain": [
       "exp1_Sample 3    36\n",
       "Name: hash.ID, dtype: int64"
      ]
     },
     "metadata": {},
     "output_type": "display_data"
    },
    {
     "name": "stdout",
     "output_type": "stream",
     "text": [
      "Clone exp1_24\n"
     ]
    },
    {
     "data": {
      "text/plain": [
       "exp1_Sample 3    174\n",
       "Name: hash.ID, dtype: int64"
      ]
     },
     "metadata": {},
     "output_type": "display_data"
    },
    {
     "name": "stdout",
     "output_type": "stream",
     "text": [
      "Clone exp1_29\n"
     ]
    },
    {
     "data": {
      "text/plain": [
       "exp1_Sample 3    145\n",
       "Name: hash.ID, dtype: int64"
      ]
     },
     "metadata": {},
     "output_type": "display_data"
    },
    {
     "name": "stdout",
     "output_type": "stream",
     "text": [
      "Clone exp1_14\n"
     ]
    },
    {
     "data": {
      "text/plain": [
       "exp1_Sample 4    536\n",
       "Name: hash.ID, dtype: int64"
      ]
     },
     "metadata": {},
     "output_type": "display_data"
    },
    {
     "name": "stdout",
     "output_type": "stream",
     "text": [
      "Clone exp1_12\n"
     ]
    },
    {
     "data": {
      "text/plain": [
       "exp1_Sample 3    357\n",
       "Name: hash.ID, dtype: int64"
      ]
     },
     "metadata": {},
     "output_type": "display_data"
    },
    {
     "name": "stdout",
     "output_type": "stream",
     "text": [
      "Clone exp1_8\n"
     ]
    },
    {
     "data": {
      "text/plain": [
       "exp1_Sample 4    75\n",
       "Name: hash.ID, dtype: int64"
      ]
     },
     "metadata": {},
     "output_type": "display_data"
    },
    {
     "name": "stdout",
     "output_type": "stream",
     "text": [
      "Clone exp1_17\n"
     ]
    },
    {
     "data": {
      "text/plain": [
       "exp1_Sample 1    269\n",
       "Name: hash.ID, dtype: int64"
      ]
     },
     "metadata": {},
     "output_type": "display_data"
    },
    {
     "name": "stdout",
     "output_type": "stream",
     "text": [
      "Clone exp1_3\n"
     ]
    },
    {
     "data": {
      "text/plain": [
       "exp1_Sample 3    988\n",
       "Name: hash.ID, dtype: int64"
      ]
     },
     "metadata": {},
     "output_type": "display_data"
    },
    {
     "name": "stdout",
     "output_type": "stream",
     "text": [
      "Clone exp1_31\n"
     ]
    },
    {
     "data": {
      "text/plain": [
       "exp1_Sample 5    53\n",
       "exp1_Sample 1     1\n",
       "exp1_Sample 4     1\n",
       "Name: hash.ID, dtype: int64"
      ]
     },
     "metadata": {},
     "output_type": "display_data"
    },
    {
     "name": "stdout",
     "output_type": "stream",
     "text": [
      "Clone exp1_28\n"
     ]
    },
    {
     "data": {
      "text/plain": [
       "exp1_Sample 4    127\n",
       "Name: hash.ID, dtype: int64"
      ]
     },
     "metadata": {},
     "output_type": "display_data"
    },
    {
     "name": "stdout",
     "output_type": "stream",
     "text": [
      "Clone exp1_45\n"
     ]
    },
    {
     "data": {
      "text/plain": [
       "exp1_Sample 3    10\n",
       "Name: hash.ID, dtype: int64"
      ]
     },
     "metadata": {},
     "output_type": "display_data"
    },
    {
     "name": "stdout",
     "output_type": "stream",
     "text": [
      "Clone exp1_9\n"
     ]
    },
    {
     "data": {
      "text/plain": [
       "exp1_Sample 2    100\n",
       "Name: hash.ID, dtype: int64"
      ]
     },
     "metadata": {},
     "output_type": "display_data"
    },
    {
     "name": "stdout",
     "output_type": "stream",
     "text": [
      "Clone exp1_16\n"
     ]
    },
    {
     "data": {
      "text/plain": [
       "exp1_Sample 5    266\n",
       "exp1_Sample 6      2\n",
       "exp1_Sample 2      1\n",
       "Name: hash.ID, dtype: int64"
      ]
     },
     "metadata": {},
     "output_type": "display_data"
    },
    {
     "name": "stdout",
     "output_type": "stream",
     "text": [
      "Clone exp1_15\n"
     ]
    },
    {
     "data": {
      "text/plain": [
       "exp1_Sample 1    222\n",
       "Name: hash.ID, dtype: int64"
      ]
     },
     "metadata": {},
     "output_type": "display_data"
    },
    {
     "name": "stdout",
     "output_type": "stream",
     "text": [
      "Clone exp1_1\n"
     ]
    },
    {
     "data": {
      "text/plain": [
       "exp1_Sample 1    476\n",
       "exp1_Sample 6      1\n",
       "Name: hash.ID, dtype: int64"
      ]
     },
     "metadata": {},
     "output_type": "display_data"
    },
    {
     "name": "stdout",
     "output_type": "stream",
     "text": [
      "Clone exp1_13\n"
     ]
    },
    {
     "data": {
      "text/plain": [
       "exp1_Sample 1    57\n",
       "Name: hash.ID, dtype: int64"
      ]
     },
     "metadata": {},
     "output_type": "display_data"
    },
    {
     "name": "stdout",
     "output_type": "stream",
     "text": [
      "Clone exp1_40\n"
     ]
    },
    {
     "data": {
      "text/plain": [
       "exp1_Sample 6    39\n",
       "Name: hash.ID, dtype: int64"
      ]
     },
     "metadata": {},
     "output_type": "display_data"
    },
    {
     "name": "stdout",
     "output_type": "stream",
     "text": [
      "Clone exp1_41\n"
     ]
    },
    {
     "data": {
      "text/plain": [
       "exp1_Sample 6    74\n",
       "Name: hash.ID, dtype: int64"
      ]
     },
     "metadata": {},
     "output_type": "display_data"
    },
    {
     "name": "stdout",
     "output_type": "stream",
     "text": [
      "Clone exp1_44\n"
     ]
    },
    {
     "data": {
      "text/plain": [
       "exp1_Sample 5    5\n",
       "Name: hash.ID, dtype: int64"
      ]
     },
     "metadata": {},
     "output_type": "display_data"
    },
    {
     "name": "stdout",
     "output_type": "stream",
     "text": [
      "Clone exp1_33\n"
     ]
    },
    {
     "data": {
      "text/plain": [
       "exp1_Sample 2    7\n",
       "Name: hash.ID, dtype: int64"
      ]
     },
     "metadata": {},
     "output_type": "display_data"
    },
    {
     "name": "stdout",
     "output_type": "stream",
     "text": [
      "Clone exp1_39\n"
     ]
    },
    {
     "data": {
      "text/plain": [
       "exp1_Sample 2    1\n",
       "Name: hash.ID, dtype: int64"
      ]
     },
     "metadata": {},
     "output_type": "display_data"
    },
    {
     "name": "stdout",
     "output_type": "stream",
     "text": [
      "Clone exp1_6\n"
     ]
    },
    {
     "data": {
      "text/plain": [
       "exp1_Sample 5    11\n",
       "Name: hash.ID, dtype: int64"
      ]
     },
     "metadata": {},
     "output_type": "display_data"
    },
    {
     "name": "stdout",
     "output_type": "stream",
     "text": [
      "Clone exp1_46\n"
     ]
    },
    {
     "data": {
      "text/plain": [
       "exp1_Sample 1    2\n",
       "Name: hash.ID, dtype: int64"
      ]
     },
     "metadata": {},
     "output_type": "display_data"
    }
   ],
   "source": [
    "test_df = JM_all.obs[JM_all.obs['orig.ident'] == 'exp1']\n",
    "for c_id in test_df.clone_id.unique():\n",
    "    print('Clone {}'.format(c_id))\n",
    "    display(test_df[test_df['clone_id'] == c_id]['hash.ID'].value_counts())"
   ]
  },
  {
   "cell_type": "markdown",
   "id": "efe48c73",
   "metadata": {},
   "source": [
    "So now we reassign those cells which seem to be assigned to the wrong sample."
   ]
  },
  {
   "cell_type": "code",
   "execution_count": 12,
   "id": "b5b7540b",
   "metadata": {},
   "outputs": [
    {
     "name": "stdout",
     "output_type": "stream",
     "text": [
      "Clone exp1_2 ok.\n",
      "Clone non.\n",
      "----\n",
      "Alert!\n",
      "exp1_Sample 5    1517\n",
      "exp1_Sample 6       5\n",
      "exp1_Sample 2       2\n",
      "exp1_Sample 1       2\n",
      "exp1_Sample 3       1\n",
      "Name: hash.ID, dtype: int64\n",
      "Sample number (hashID) changed to exp1_Sample 5 for 10 cells\n",
      "----\n",
      "Clone exp1_7 ok.\n",
      "Clone exp1_10 ok.\n",
      "Clone exp1_21 ok.\n",
      "Clone exp1_11 ok.\n",
      "Clone exp1_19 ok.\n",
      "Clone exp1_26 ok.\n",
      "Clone exp1_23 ok.\n",
      "Clone exp1_4 ok.\n",
      "Clone exp1_18 ok.\n",
      "Clone exp1_36 ok.\n",
      "Clone exp1_24 ok.\n",
      "Clone exp1_29 ok.\n",
      "Clone exp1_14 ok.\n",
      "Clone exp1_12 ok.\n",
      "Clone exp1_8 ok.\n",
      "Clone exp1_17 ok.\n",
      "Clone exp1_3 ok.\n",
      "----\n",
      "Alert!\n",
      "exp1_Sample 5    53\n",
      "exp1_Sample 1     1\n",
      "exp1_Sample 4     1\n",
      "Name: hash.ID, dtype: int64\n",
      "Sample number (hashID) changed to exp1_Sample 5 for 2 cells\n",
      "----\n",
      "Clone exp1_28 ok.\n",
      "Clone exp1_45 ok.\n",
      "Clone exp1_9 ok.\n",
      "----\n",
      "Alert!\n",
      "exp1_Sample 5    266\n",
      "exp1_Sample 6      2\n",
      "exp1_Sample 2      1\n",
      "Name: hash.ID, dtype: int64\n",
      "Sample number (hashID) changed to exp1_Sample 5 for 3 cells\n",
      "----\n",
      "Clone exp1_15 ok.\n",
      "----\n",
      "Alert!\n",
      "exp1_Sample 1    476\n",
      "exp1_Sample 6      1\n",
      "Name: hash.ID, dtype: int64\n",
      "Sample number (hashID) changed to exp1_Sample 1 for 1 cells\n",
      "----\n",
      "Clone exp1_13 ok.\n",
      "Clone exp1_40 ok.\n",
      "Clone exp1_41 ok.\n",
      "Clone exp1_44 ok.\n",
      "Clone exp1_33 ok.\n",
      "Clone exp1_39 ok.\n",
      "Clone exp1_6 ok.\n",
      "Clone exp1_46 ok.\n"
     ]
    }
   ],
   "source": [
    "test_df = JM_all.obs[JM_all.obs['orig.ident'] == 'exp1']\n",
    "for c_id in test_df.clone_id.unique():\n",
    "    vc = test_df[test_df['clone_id'] == c_id]['hash.ID'].value_counts()\n",
    "    if c_id != 'exp1_non':\n",
    "        if len(vc) > 1:\n",
    "            print('----')\n",
    "            print('Alert!')\n",
    "            print(vc)\n",
    "            right_sample = vc.idxmax()\n",
    "            cells = test_df[test_df['clone_id'] == c_id].index\n",
    "            JM_all.obs.loc[cells,'hash.ID'] = right_sample\n",
    "            num_corr = len(cells) - vc[right_sample]\n",
    "            print('Sample number (hashID) changed to {} for {} cells'.format(right_sample, num_corr))\n",
    "            print('----')\n",
    "        else:\n",
    "            print('Clone {} ok.'.format(c_id))\n",
    "    else: \n",
    "        print('Clone non.')"
   ]
  },
  {
   "cell_type": "code",
   "execution_count": 13,
   "id": "6c683f1f",
   "metadata": {},
   "outputs": [
    {
     "name": "stdout",
     "output_type": "stream",
     "text": [
      "Clone exp1_2\n"
     ]
    },
    {
     "data": {
      "text/plain": [
       "exp1_Sample 2    1180\n",
       "Name: hash.ID, dtype: int64"
      ]
     },
     "metadata": {},
     "output_type": "display_data"
    },
    {
     "name": "stdout",
     "output_type": "stream",
     "text": [
      "Clone exp1_non\n"
     ]
    },
    {
     "data": {
      "text/plain": [
       "exp1_Sample 1    725\n",
       "exp1_Sample 3    655\n",
       "exp1_Sample 6    565\n",
       "exp1_Sample 4    491\n",
       "exp1_Sample 2    397\n",
       "exp1_Sample 5    350\n",
       "Name: hash.ID, dtype: int64"
      ]
     },
     "metadata": {},
     "output_type": "display_data"
    },
    {
     "name": "stdout",
     "output_type": "stream",
     "text": [
      "Clone exp1_5\n"
     ]
    },
    {
     "data": {
      "text/plain": [
       "exp1_Sample 5    1527\n",
       "Name: hash.ID, dtype: int64"
      ]
     },
     "metadata": {},
     "output_type": "display_data"
    },
    {
     "name": "stdout",
     "output_type": "stream",
     "text": [
      "Clone exp1_7\n"
     ]
    },
    {
     "data": {
      "text/plain": [
       "exp1_Sample 4    542\n",
       "Name: hash.ID, dtype: int64"
      ]
     },
     "metadata": {},
     "output_type": "display_data"
    },
    {
     "name": "stdout",
     "output_type": "stream",
     "text": [
      "Clone exp1_10\n"
     ]
    },
    {
     "data": {
      "text/plain": [
       "exp1_Sample 4    241\n",
       "Name: hash.ID, dtype: int64"
      ]
     },
     "metadata": {},
     "output_type": "display_data"
    },
    {
     "name": "stdout",
     "output_type": "stream",
     "text": [
      "Clone exp1_21\n"
     ]
    },
    {
     "data": {
      "text/plain": [
       "exp1_Sample 6    520\n",
       "Name: hash.ID, dtype: int64"
      ]
     },
     "metadata": {},
     "output_type": "display_data"
    },
    {
     "name": "stdout",
     "output_type": "stream",
     "text": [
      "Clone exp1_11\n"
     ]
    },
    {
     "data": {
      "text/plain": [
       "exp1_Sample 4    482\n",
       "Name: hash.ID, dtype: int64"
      ]
     },
     "metadata": {},
     "output_type": "display_data"
    },
    {
     "name": "stdout",
     "output_type": "stream",
     "text": [
      "Clone exp1_19\n"
     ]
    },
    {
     "data": {
      "text/plain": [
       "exp1_Sample 2    309\n",
       "Name: hash.ID, dtype: int64"
      ]
     },
     "metadata": {},
     "output_type": "display_data"
    },
    {
     "name": "stdout",
     "output_type": "stream",
     "text": [
      "Clone exp1_26\n"
     ]
    },
    {
     "data": {
      "text/plain": [
       "exp1_Sample 6    220\n",
       "Name: hash.ID, dtype: int64"
      ]
     },
     "metadata": {},
     "output_type": "display_data"
    },
    {
     "name": "stdout",
     "output_type": "stream",
     "text": [
      "Clone exp1_23\n"
     ]
    },
    {
     "data": {
      "text/plain": [
       "exp1_Sample 2    263\n",
       "Name: hash.ID, dtype: int64"
      ]
     },
     "metadata": {},
     "output_type": "display_data"
    },
    {
     "name": "stdout",
     "output_type": "stream",
     "text": [
      "Clone exp1_4\n"
     ]
    },
    {
     "data": {
      "text/plain": [
       "exp1_Sample 6    908\n",
       "Name: hash.ID, dtype: int64"
      ]
     },
     "metadata": {},
     "output_type": "display_data"
    },
    {
     "name": "stdout",
     "output_type": "stream",
     "text": [
      "Clone exp1_18\n"
     ]
    },
    {
     "data": {
      "text/plain": [
       "exp1_Sample 1    82\n",
       "Name: hash.ID, dtype: int64"
      ]
     },
     "metadata": {},
     "output_type": "display_data"
    },
    {
     "name": "stdout",
     "output_type": "stream",
     "text": [
      "Clone exp1_36\n"
     ]
    },
    {
     "data": {
      "text/plain": [
       "exp1_Sample 3    36\n",
       "Name: hash.ID, dtype: int64"
      ]
     },
     "metadata": {},
     "output_type": "display_data"
    },
    {
     "name": "stdout",
     "output_type": "stream",
     "text": [
      "Clone exp1_24\n"
     ]
    },
    {
     "data": {
      "text/plain": [
       "exp1_Sample 3    174\n",
       "Name: hash.ID, dtype: int64"
      ]
     },
     "metadata": {},
     "output_type": "display_data"
    },
    {
     "name": "stdout",
     "output_type": "stream",
     "text": [
      "Clone exp1_29\n"
     ]
    },
    {
     "data": {
      "text/plain": [
       "exp1_Sample 3    145\n",
       "Name: hash.ID, dtype: int64"
      ]
     },
     "metadata": {},
     "output_type": "display_data"
    },
    {
     "name": "stdout",
     "output_type": "stream",
     "text": [
      "Clone exp1_14\n"
     ]
    },
    {
     "data": {
      "text/plain": [
       "exp1_Sample 4    536\n",
       "Name: hash.ID, dtype: int64"
      ]
     },
     "metadata": {},
     "output_type": "display_data"
    },
    {
     "name": "stdout",
     "output_type": "stream",
     "text": [
      "Clone exp1_12\n"
     ]
    },
    {
     "data": {
      "text/plain": [
       "exp1_Sample 3    357\n",
       "Name: hash.ID, dtype: int64"
      ]
     },
     "metadata": {},
     "output_type": "display_data"
    },
    {
     "name": "stdout",
     "output_type": "stream",
     "text": [
      "Clone exp1_8\n"
     ]
    },
    {
     "data": {
      "text/plain": [
       "exp1_Sample 4    75\n",
       "Name: hash.ID, dtype: int64"
      ]
     },
     "metadata": {},
     "output_type": "display_data"
    },
    {
     "name": "stdout",
     "output_type": "stream",
     "text": [
      "Clone exp1_17\n"
     ]
    },
    {
     "data": {
      "text/plain": [
       "exp1_Sample 1    269\n",
       "Name: hash.ID, dtype: int64"
      ]
     },
     "metadata": {},
     "output_type": "display_data"
    },
    {
     "name": "stdout",
     "output_type": "stream",
     "text": [
      "Clone exp1_3\n"
     ]
    },
    {
     "data": {
      "text/plain": [
       "exp1_Sample 3    988\n",
       "Name: hash.ID, dtype: int64"
      ]
     },
     "metadata": {},
     "output_type": "display_data"
    },
    {
     "name": "stdout",
     "output_type": "stream",
     "text": [
      "Clone exp1_31\n"
     ]
    },
    {
     "data": {
      "text/plain": [
       "exp1_Sample 5    55\n",
       "Name: hash.ID, dtype: int64"
      ]
     },
     "metadata": {},
     "output_type": "display_data"
    },
    {
     "name": "stdout",
     "output_type": "stream",
     "text": [
      "Clone exp1_28\n"
     ]
    },
    {
     "data": {
      "text/plain": [
       "exp1_Sample 4    127\n",
       "Name: hash.ID, dtype: int64"
      ]
     },
     "metadata": {},
     "output_type": "display_data"
    },
    {
     "name": "stdout",
     "output_type": "stream",
     "text": [
      "Clone exp1_45\n"
     ]
    },
    {
     "data": {
      "text/plain": [
       "exp1_Sample 3    10\n",
       "Name: hash.ID, dtype: int64"
      ]
     },
     "metadata": {},
     "output_type": "display_data"
    },
    {
     "name": "stdout",
     "output_type": "stream",
     "text": [
      "Clone exp1_9\n"
     ]
    },
    {
     "data": {
      "text/plain": [
       "exp1_Sample 2    100\n",
       "Name: hash.ID, dtype: int64"
      ]
     },
     "metadata": {},
     "output_type": "display_data"
    },
    {
     "name": "stdout",
     "output_type": "stream",
     "text": [
      "Clone exp1_16\n"
     ]
    },
    {
     "data": {
      "text/plain": [
       "exp1_Sample 5    269\n",
       "Name: hash.ID, dtype: int64"
      ]
     },
     "metadata": {},
     "output_type": "display_data"
    },
    {
     "name": "stdout",
     "output_type": "stream",
     "text": [
      "Clone exp1_15\n"
     ]
    },
    {
     "data": {
      "text/plain": [
       "exp1_Sample 1    222\n",
       "Name: hash.ID, dtype: int64"
      ]
     },
     "metadata": {},
     "output_type": "display_data"
    },
    {
     "name": "stdout",
     "output_type": "stream",
     "text": [
      "Clone exp1_1\n"
     ]
    },
    {
     "data": {
      "text/plain": [
       "exp1_Sample 1    477\n",
       "Name: hash.ID, dtype: int64"
      ]
     },
     "metadata": {},
     "output_type": "display_data"
    },
    {
     "name": "stdout",
     "output_type": "stream",
     "text": [
      "Clone exp1_13\n"
     ]
    },
    {
     "data": {
      "text/plain": [
       "exp1_Sample 1    57\n",
       "Name: hash.ID, dtype: int64"
      ]
     },
     "metadata": {},
     "output_type": "display_data"
    },
    {
     "name": "stdout",
     "output_type": "stream",
     "text": [
      "Clone exp1_40\n"
     ]
    },
    {
     "data": {
      "text/plain": [
       "exp1_Sample 6    39\n",
       "Name: hash.ID, dtype: int64"
      ]
     },
     "metadata": {},
     "output_type": "display_data"
    },
    {
     "name": "stdout",
     "output_type": "stream",
     "text": [
      "Clone exp1_41\n"
     ]
    },
    {
     "data": {
      "text/plain": [
       "exp1_Sample 6    74\n",
       "Name: hash.ID, dtype: int64"
      ]
     },
     "metadata": {},
     "output_type": "display_data"
    },
    {
     "name": "stdout",
     "output_type": "stream",
     "text": [
      "Clone exp1_44\n"
     ]
    },
    {
     "data": {
      "text/plain": [
       "exp1_Sample 5    5\n",
       "Name: hash.ID, dtype: int64"
      ]
     },
     "metadata": {},
     "output_type": "display_data"
    },
    {
     "name": "stdout",
     "output_type": "stream",
     "text": [
      "Clone exp1_33\n"
     ]
    },
    {
     "data": {
      "text/plain": [
       "exp1_Sample 2    7\n",
       "Name: hash.ID, dtype: int64"
      ]
     },
     "metadata": {},
     "output_type": "display_data"
    },
    {
     "name": "stdout",
     "output_type": "stream",
     "text": [
      "Clone exp1_39\n"
     ]
    },
    {
     "data": {
      "text/plain": [
       "exp1_Sample 2    1\n",
       "Name: hash.ID, dtype: int64"
      ]
     },
     "metadata": {},
     "output_type": "display_data"
    },
    {
     "name": "stdout",
     "output_type": "stream",
     "text": [
      "Clone exp1_6\n"
     ]
    },
    {
     "data": {
      "text/plain": [
       "exp1_Sample 5    11\n",
       "Name: hash.ID, dtype: int64"
      ]
     },
     "metadata": {},
     "output_type": "display_data"
    },
    {
     "name": "stdout",
     "output_type": "stream",
     "text": [
      "Clone exp1_46\n"
     ]
    },
    {
     "data": {
      "text/plain": [
       "exp1_Sample 1    2\n",
       "Name: hash.ID, dtype: int64"
      ]
     },
     "metadata": {},
     "output_type": "display_data"
    }
   ],
   "source": [
    "test_df = JM_all.obs[JM_all.obs['orig.ident'] == 'exp1']\n",
    "for c_id in test_df.clone_id.unique():\n",
    "    print('Clone {}'.format(c_id))\n",
    "    display(test_df[test_df['clone_id'] == c_id]['hash.ID'].value_counts())"
   ]
  },
  {
   "cell_type": "markdown",
   "id": "ad945b68",
   "metadata": {},
   "source": [
    "Now we do some string processing to avoid problems."
   ]
  },
  {
   "cell_type": "code",
   "execution_count": 14,
   "id": "40778e6a",
   "metadata": {},
   "outputs": [
    {
     "data": {
      "text/plain": [
       "array(['exp1_Sample2', 'exp1_Sample1', 'exp1_Sample6', 'exp1_Sample5',\n",
       "       'exp1_Sample4', 'exp1_Sample3', 'exp2_Sample3', 'exp2_Sample6',\n",
       "       'exp2_Sample4', 'exp2_Sample1', 'exp2_Sample2', 'exp2_Sample5',\n",
       "       'exp3_Sample2', 'exp3_Sample1', 'exp3_Sample4', 'exp3_Sample3',\n",
       "       'exp3_Sample5', 'exp3_Sample6'], dtype=object)"
      ]
     },
     "execution_count": 14,
     "metadata": {},
     "output_type": "execute_result"
    }
   ],
   "source": [
    "JM_all.obs['hash.ID'] = JM_all.obs['hash.ID'].str.replace(' ', '')\n",
    "JM_all.obs['hash.ID'].unique()"
   ]
  },
  {
   "cell_type": "code",
   "execution_count": 15,
   "id": "73095417",
   "metadata": {},
   "outputs": [],
   "source": [
    "JM_all.obs.columns = [col.replace('.','_') for col in JM_all.obs.columns]\n",
    "JM_all.obs.columns = [col.replace('clone_id','clone_ID') for col in JM_all.obs.columns]"
   ]
  },
  {
   "cell_type": "markdown",
   "id": "f9533621",
   "metadata": {},
   "source": [
    "We extract the data from clone_ID and hash_ID into new metadata attributes called simply \"clone\" and \"well\" and \"experiment\"."
   ]
  },
  {
   "cell_type": "code",
   "execution_count": 16,
   "id": "731ba3fb",
   "metadata": {},
   "outputs": [],
   "source": [
    "JM_all.obs['clone'] = JM_all.obs.clone_ID.apply(lambda x : x.split('_')[1])\n",
    "JM_all.obs['well'] = JM_all.obs.hash_ID.apply(lambda x : x.split('_')[1])\n",
    "JM_all.obs['experiment'] = JM_all.obs.orig_ident"
   ]
  },
  {
   "cell_type": "markdown",
   "id": "d4f77f9f",
   "metadata": {},
   "source": [
    "# CD4 vs CD8 scoring"
   ]
  },
  {
   "cell_type": "markdown",
   "id": "feed31e9",
   "metadata": {},
   "source": [
    "It is pretty easy to distinguish CD4 from CD8 cells.  We use the three genes:  CD4, CD8A, CD8B, essentially giving each of them a \"vote\".  A clone consists of all CD4 or all CD8 cells, so we vote the entire clone to be a CD4 or CD8 cell based on the clonal mean for each gene's expression.  "
   ]
  },
  {
   "cell_type": "code",
   "execution_count": 17,
   "id": "02e64892",
   "metadata": {},
   "outputs": [],
   "source": [
    "def CD_score(adata):\n",
    "    CD_df = pd.DataFrame(index=adata.obs.index)\n",
    "    for gene in ['CD4','CD8A','CD8B']:\n",
    "        if gene in adata.var_names:\n",
    "            CD_df[gene] = adata.to_df()[gene]\n",
    "        else:\n",
    "            CD_df[gene] = 0.0\n",
    "    CD_means = CD_df.groupby(adata.obs.clone).mean()\n",
    "    CD_scores = ((CD_means['CD8A'] > 1).astype(int) + \n",
    "                 (CD_means['CD8B'] > 1).astype(int) - \n",
    "                 (CD_means['CD4'] > 0.4).astype(int)) # Manually found cutoffs.\n",
    "    CD_scores = CD_scores.map({-1 : 'CD4', 2 : 'CD8'})\n",
    "    CD_scores['non'] = 'unknown'\n",
    "    return CD_scores"
   ]
  },
  {
   "cell_type": "code",
   "execution_count": 18,
   "id": "10ef0984",
   "metadata": {},
   "outputs": [],
   "source": [
    "CD_scores = CD_score(JM_all)\n",
    "JM_all.obs['CD_type'] = JM_all.obs.clone.map(CD_scores)"
   ]
  },
  {
   "cell_type": "code",
   "execution_count": 19,
   "id": "45b3fe2c",
   "metadata": {},
   "outputs": [
    {
     "data": {
      "text/html": [
       "<div>\n",
       "<style scoped>\n",
       "    .dataframe tbody tr th:only-of-type {\n",
       "        vertical-align: middle;\n",
       "    }\n",
       "\n",
       "    .dataframe tbody tr th {\n",
       "        vertical-align: top;\n",
       "    }\n",
       "\n",
       "    .dataframe thead th {\n",
       "        text-align: right;\n",
       "    }\n",
       "</style>\n",
       "<table border=\"1\" class=\"dataframe\">\n",
       "  <thead>\n",
       "    <tr style=\"text-align: right;\">\n",
       "      <th></th>\n",
       "      <th>clone_ID</th>\n",
       "      <th>hash_ID</th>\n",
       "      <th>nCount_CH</th>\n",
       "      <th>nCount_RNA</th>\n",
       "      <th>nFeature_CH</th>\n",
       "      <th>nFeature_RNA</th>\n",
       "      <th>orig_ident</th>\n",
       "      <th>percent_mt</th>\n",
       "      <th>clone</th>\n",
       "      <th>well</th>\n",
       "      <th>experiment</th>\n",
       "      <th>CD_type</th>\n",
       "    </tr>\n",
       "    <tr>\n",
       "      <th>CellID</th>\n",
       "      <th></th>\n",
       "      <th></th>\n",
       "      <th></th>\n",
       "      <th></th>\n",
       "      <th></th>\n",
       "      <th></th>\n",
       "      <th></th>\n",
       "      <th></th>\n",
       "      <th></th>\n",
       "      <th></th>\n",
       "      <th></th>\n",
       "      <th></th>\n",
       "    </tr>\n",
       "  </thead>\n",
       "  <tbody>\n",
       "    <tr>\n",
       "      <th>exp1_AAACCTGAGACAGGCT-1</th>\n",
       "      <td>exp1_2</td>\n",
       "      <td>exp1_Sample2</td>\n",
       "      <td>1028.0</td>\n",
       "      <td>6876.0</td>\n",
       "      <td>6</td>\n",
       "      <td>2669</td>\n",
       "      <td>exp1</td>\n",
       "      <td>3.955788</td>\n",
       "      <td>2</td>\n",
       "      <td>Sample2</td>\n",
       "      <td>exp1</td>\n",
       "      <td>CD4</td>\n",
       "    </tr>\n",
       "    <tr>\n",
       "      <th>exp1_AAACCTGAGCCCAATT-1</th>\n",
       "      <td>exp1_non</td>\n",
       "      <td>exp1_Sample1</td>\n",
       "      <td>2166.0</td>\n",
       "      <td>6246.0</td>\n",
       "      <td>6</td>\n",
       "      <td>2368</td>\n",
       "      <td>exp1</td>\n",
       "      <td>2.161383</td>\n",
       "      <td>non</td>\n",
       "      <td>Sample1</td>\n",
       "      <td>exp1</td>\n",
       "      <td>unknown</td>\n",
       "    </tr>\n",
       "    <tr>\n",
       "      <th>exp1_AAACCTGAGGACAGAA-1</th>\n",
       "      <td>exp1_non</td>\n",
       "      <td>exp1_Sample6</td>\n",
       "      <td>813.0</td>\n",
       "      <td>4615.0</td>\n",
       "      <td>6</td>\n",
       "      <td>1718</td>\n",
       "      <td>exp1</td>\n",
       "      <td>2.665222</td>\n",
       "      <td>non</td>\n",
       "      <td>Sample6</td>\n",
       "      <td>exp1</td>\n",
       "      <td>unknown</td>\n",
       "    </tr>\n",
       "    <tr>\n",
       "      <th>exp1_AAACCTGCAACAACCT-1</th>\n",
       "      <td>exp1_5</td>\n",
       "      <td>exp1_Sample5</td>\n",
       "      <td>1092.0</td>\n",
       "      <td>11565.0</td>\n",
       "      <td>6</td>\n",
       "      <td>3613</td>\n",
       "      <td>exp1</td>\n",
       "      <td>2.075227</td>\n",
       "      <td>5</td>\n",
       "      <td>Sample5</td>\n",
       "      <td>exp1</td>\n",
       "      <td>CD4</td>\n",
       "    </tr>\n",
       "    <tr>\n",
       "      <th>exp1_AAACCTGCAGACACTT-1</th>\n",
       "      <td>exp1_7</td>\n",
       "      <td>exp1_Sample4</td>\n",
       "      <td>847.0</td>\n",
       "      <td>4440.0</td>\n",
       "      <td>6</td>\n",
       "      <td>2005</td>\n",
       "      <td>exp1</td>\n",
       "      <td>0.990991</td>\n",
       "      <td>7</td>\n",
       "      <td>Sample4</td>\n",
       "      <td>exp1</td>\n",
       "      <td>CD4</td>\n",
       "    </tr>\n",
       "  </tbody>\n",
       "</table>\n",
       "</div>"
      ],
      "text/plain": [
       "                         clone_ID       hash_ID  nCount_CH  nCount_RNA  \\\n",
       "CellID                                                                   \n",
       "exp1_AAACCTGAGACAGGCT-1    exp1_2  exp1_Sample2     1028.0      6876.0   \n",
       "exp1_AAACCTGAGCCCAATT-1  exp1_non  exp1_Sample1     2166.0      6246.0   \n",
       "exp1_AAACCTGAGGACAGAA-1  exp1_non  exp1_Sample6      813.0      4615.0   \n",
       "exp1_AAACCTGCAACAACCT-1    exp1_5  exp1_Sample5     1092.0     11565.0   \n",
       "exp1_AAACCTGCAGACACTT-1    exp1_7  exp1_Sample4      847.0      4440.0   \n",
       "\n",
       "                         nFeature_CH  nFeature_RNA orig_ident  percent_mt  \\\n",
       "CellID                                                                      \n",
       "exp1_AAACCTGAGACAGGCT-1            6          2669       exp1    3.955788   \n",
       "exp1_AAACCTGAGCCCAATT-1            6          2368       exp1    2.161383   \n",
       "exp1_AAACCTGAGGACAGAA-1            6          1718       exp1    2.665222   \n",
       "exp1_AAACCTGCAACAACCT-1            6          3613       exp1    2.075227   \n",
       "exp1_AAACCTGCAGACACTT-1            6          2005       exp1    0.990991   \n",
       "\n",
       "                        clone     well experiment  CD_type  \n",
       "CellID                                                      \n",
       "exp1_AAACCTGAGACAGGCT-1     2  Sample2       exp1      CD4  \n",
       "exp1_AAACCTGAGCCCAATT-1   non  Sample1       exp1  unknown  \n",
       "exp1_AAACCTGAGGACAGAA-1   non  Sample6       exp1  unknown  \n",
       "exp1_AAACCTGCAACAACCT-1     5  Sample5       exp1      CD4  \n",
       "exp1_AAACCTGCAGACACTT-1     7  Sample4       exp1      CD4  "
      ]
     },
     "execution_count": 19,
     "metadata": {},
     "output_type": "execute_result"
    }
   ],
   "source": [
    "meta_df = JM_all.obs\n",
    "meta_df.head()"
   ]
  },
  {
   "cell_type": "code",
   "execution_count": 20,
   "id": "a55e6891",
   "metadata": {},
   "outputs": [
    {
     "data": {
      "text/plain": [
       "CD4        27056\n",
       "unknown    17150\n",
       "CD8         2707\n",
       "Name: CD_type, dtype: int64"
      ]
     },
     "execution_count": 20,
     "metadata": {},
     "output_type": "execute_result"
    }
   ],
   "source": [
    "meta_df.CD_type.value_counts()"
   ]
  },
  {
   "cell_type": "markdown",
   "id": "eb366884",
   "metadata": {},
   "source": [
    "Note that this CD4 vs CD8 voting yields *unanimous* results for each identified clone.  "
   ]
  },
  {
   "cell_type": "code",
   "execution_count": 21,
   "id": "b68efc71",
   "metadata": {},
   "outputs": [],
   "source": [
    "meta_df.to_csv('Processed/Allcells_metadata.csv')"
   ]
  },
  {
   "cell_type": "markdown",
   "id": "e3fab990",
   "metadata": {},
   "source": [
    "## Breaking into smaller experiment files"
   ]
  },
  {
   "cell_type": "code",
   "execution_count": 22,
   "id": "73ba51d6",
   "metadata": {},
   "outputs": [],
   "source": [
    "JM = {}\n",
    "datasets = JM_all.obs['hash_ID'].unique()\n",
    "for ds in datasets:\n",
    "    ad_temp = JM_all[JM_all.obs['hash_ID'] == ds]\n",
    "    JM[ds] = sc.AnnData(ad_temp.layers['counts'])\n",
    "    JM[ds].obs = ad_temp.obs\n",
    "    JM[ds].var = ad_temp.var"
   ]
  },
  {
   "cell_type": "code",
   "execution_count": 23,
   "id": "d459e75f",
   "metadata": {},
   "outputs": [
    {
     "data": {
      "text/html": [
       "<div>\n",
       "<style scoped>\n",
       "    .dataframe tbody tr th:only-of-type {\n",
       "        vertical-align: middle;\n",
       "    }\n",
       "\n",
       "    .dataframe tbody tr th {\n",
       "        vertical-align: top;\n",
       "    }\n",
       "\n",
       "    .dataframe thead th {\n",
       "        text-align: right;\n",
       "    }\n",
       "</style>\n",
       "<table border=\"1\" class=\"dataframe\">\n",
       "  <thead>\n",
       "    <tr style=\"text-align: right;\">\n",
       "      <th></th>\n",
       "      <th>clone_ID</th>\n",
       "      <th>hash_ID</th>\n",
       "      <th>nCount_CH</th>\n",
       "      <th>nCount_RNA</th>\n",
       "      <th>nFeature_CH</th>\n",
       "      <th>nFeature_RNA</th>\n",
       "      <th>orig_ident</th>\n",
       "      <th>percent_mt</th>\n",
       "      <th>clone</th>\n",
       "      <th>well</th>\n",
       "      <th>experiment</th>\n",
       "      <th>CD_type</th>\n",
       "    </tr>\n",
       "    <tr>\n",
       "      <th>CellID</th>\n",
       "      <th></th>\n",
       "      <th></th>\n",
       "      <th></th>\n",
       "      <th></th>\n",
       "      <th></th>\n",
       "      <th></th>\n",
       "      <th></th>\n",
       "      <th></th>\n",
       "      <th></th>\n",
       "      <th></th>\n",
       "      <th></th>\n",
       "      <th></th>\n",
       "    </tr>\n",
       "  </thead>\n",
       "  <tbody>\n",
       "    <tr>\n",
       "      <th>exp1_AAACCTGAGCCCAATT-1</th>\n",
       "      <td>exp1_non</td>\n",
       "      <td>exp1_Sample1</td>\n",
       "      <td>2166.0</td>\n",
       "      <td>6246.0</td>\n",
       "      <td>6</td>\n",
       "      <td>2368</td>\n",
       "      <td>exp1</td>\n",
       "      <td>2.161383</td>\n",
       "      <td>non</td>\n",
       "      <td>Sample1</td>\n",
       "      <td>exp1</td>\n",
       "      <td>unknown</td>\n",
       "    </tr>\n",
       "    <tr>\n",
       "      <th>exp1_AAACCTGTCCGCATAA-1</th>\n",
       "      <td>exp1_18</td>\n",
       "      <td>exp1_Sample1</td>\n",
       "      <td>15789.0</td>\n",
       "      <td>5096.0</td>\n",
       "      <td>6</td>\n",
       "      <td>2207</td>\n",
       "      <td>exp1</td>\n",
       "      <td>2.217425</td>\n",
       "      <td>18</td>\n",
       "      <td>Sample1</td>\n",
       "      <td>exp1</td>\n",
       "      <td>CD4</td>\n",
       "    </tr>\n",
       "    <tr>\n",
       "      <th>exp1_AAACGGGGTTACGGAG-1</th>\n",
       "      <td>exp1_non</td>\n",
       "      <td>exp1_Sample1</td>\n",
       "      <td>3081.0</td>\n",
       "      <td>5905.0</td>\n",
       "      <td>6</td>\n",
       "      <td>1974</td>\n",
       "      <td>exp1</td>\n",
       "      <td>3.065199</td>\n",
       "      <td>non</td>\n",
       "      <td>Sample1</td>\n",
       "      <td>exp1</td>\n",
       "      <td>unknown</td>\n",
       "    </tr>\n",
       "    <tr>\n",
       "      <th>exp1_AAACGGGTCGAATCCA-1</th>\n",
       "      <td>exp1_17</td>\n",
       "      <td>exp1_Sample1</td>\n",
       "      <td>2479.0</td>\n",
       "      <td>4264.0</td>\n",
       "      <td>6</td>\n",
       "      <td>1879</td>\n",
       "      <td>exp1</td>\n",
       "      <td>1.993433</td>\n",
       "      <td>17</td>\n",
       "      <td>Sample1</td>\n",
       "      <td>exp1</td>\n",
       "      <td>CD8</td>\n",
       "    </tr>\n",
       "    <tr>\n",
       "      <th>exp1_AAACGGGTCTGTGCAA-1</th>\n",
       "      <td>exp1_non</td>\n",
       "      <td>exp1_Sample1</td>\n",
       "      <td>3424.0</td>\n",
       "      <td>1655.0</td>\n",
       "      <td>6</td>\n",
       "      <td>1167</td>\n",
       "      <td>exp1</td>\n",
       "      <td>3.746224</td>\n",
       "      <td>non</td>\n",
       "      <td>Sample1</td>\n",
       "      <td>exp1</td>\n",
       "      <td>unknown</td>\n",
       "    </tr>\n",
       "    <tr>\n",
       "      <th>...</th>\n",
       "      <td>...</td>\n",
       "      <td>...</td>\n",
       "      <td>...</td>\n",
       "      <td>...</td>\n",
       "      <td>...</td>\n",
       "      <td>...</td>\n",
       "      <td>...</td>\n",
       "      <td>...</td>\n",
       "      <td>...</td>\n",
       "      <td>...</td>\n",
       "      <td>...</td>\n",
       "      <td>...</td>\n",
       "    </tr>\n",
       "    <tr>\n",
       "      <th>exp1_TTTGGTTTCACATACG-1</th>\n",
       "      <td>exp1_1</td>\n",
       "      <td>exp1_Sample1</td>\n",
       "      <td>18033.0</td>\n",
       "      <td>4451.0</td>\n",
       "      <td>6</td>\n",
       "      <td>2066</td>\n",
       "      <td>exp1</td>\n",
       "      <td>2.269153</td>\n",
       "      <td>1</td>\n",
       "      <td>Sample1</td>\n",
       "      <td>exp1</td>\n",
       "      <td>CD4</td>\n",
       "    </tr>\n",
       "    <tr>\n",
       "      <th>exp1_TTTGTCAAGCTAGTCT-1</th>\n",
       "      <td>exp1_1</td>\n",
       "      <td>exp1_Sample1</td>\n",
       "      <td>3656.0</td>\n",
       "      <td>8112.0</td>\n",
       "      <td>6</td>\n",
       "      <td>2748</td>\n",
       "      <td>exp1</td>\n",
       "      <td>2.465483</td>\n",
       "      <td>1</td>\n",
       "      <td>Sample1</td>\n",
       "      <td>exp1</td>\n",
       "      <td>CD4</td>\n",
       "    </tr>\n",
       "    <tr>\n",
       "      <th>exp1_TTTGTCACAAGAAAGG-1</th>\n",
       "      <td>exp1_17</td>\n",
       "      <td>exp1_Sample1</td>\n",
       "      <td>3510.0</td>\n",
       "      <td>4699.0</td>\n",
       "      <td>6</td>\n",
       "      <td>2146</td>\n",
       "      <td>exp1</td>\n",
       "      <td>2.085550</td>\n",
       "      <td>17</td>\n",
       "      <td>Sample1</td>\n",
       "      <td>exp1</td>\n",
       "      <td>CD8</td>\n",
       "    </tr>\n",
       "    <tr>\n",
       "      <th>exp1_TTTGTCAGTCTGCCAG-1</th>\n",
       "      <td>exp1_1</td>\n",
       "      <td>exp1_Sample1</td>\n",
       "      <td>4479.0</td>\n",
       "      <td>6722.0</td>\n",
       "      <td>6</td>\n",
       "      <td>2305</td>\n",
       "      <td>exp1</td>\n",
       "      <td>1.695924</td>\n",
       "      <td>1</td>\n",
       "      <td>Sample1</td>\n",
       "      <td>exp1</td>\n",
       "      <td>CD4</td>\n",
       "    </tr>\n",
       "    <tr>\n",
       "      <th>exp1_TTTGTCATCTGGTTCC-1</th>\n",
       "      <td>exp1_non</td>\n",
       "      <td>exp1_Sample1</td>\n",
       "      <td>4453.0</td>\n",
       "      <td>3705.0</td>\n",
       "      <td>6</td>\n",
       "      <td>1658</td>\n",
       "      <td>exp1</td>\n",
       "      <td>2.159244</td>\n",
       "      <td>non</td>\n",
       "      <td>Sample1</td>\n",
       "      <td>exp1</td>\n",
       "      <td>unknown</td>\n",
       "    </tr>\n",
       "  </tbody>\n",
       "</table>\n",
       "<p>1834 rows × 12 columns</p>\n",
       "</div>"
      ],
      "text/plain": [
       "                         clone_ID       hash_ID  nCount_CH  nCount_RNA  \\\n",
       "CellID                                                                   \n",
       "exp1_AAACCTGAGCCCAATT-1  exp1_non  exp1_Sample1     2166.0      6246.0   \n",
       "exp1_AAACCTGTCCGCATAA-1   exp1_18  exp1_Sample1    15789.0      5096.0   \n",
       "exp1_AAACGGGGTTACGGAG-1  exp1_non  exp1_Sample1     3081.0      5905.0   \n",
       "exp1_AAACGGGTCGAATCCA-1   exp1_17  exp1_Sample1     2479.0      4264.0   \n",
       "exp1_AAACGGGTCTGTGCAA-1  exp1_non  exp1_Sample1     3424.0      1655.0   \n",
       "...                           ...           ...        ...         ...   \n",
       "exp1_TTTGGTTTCACATACG-1    exp1_1  exp1_Sample1    18033.0      4451.0   \n",
       "exp1_TTTGTCAAGCTAGTCT-1    exp1_1  exp1_Sample1     3656.0      8112.0   \n",
       "exp1_TTTGTCACAAGAAAGG-1   exp1_17  exp1_Sample1     3510.0      4699.0   \n",
       "exp1_TTTGTCAGTCTGCCAG-1    exp1_1  exp1_Sample1     4479.0      6722.0   \n",
       "exp1_TTTGTCATCTGGTTCC-1  exp1_non  exp1_Sample1     4453.0      3705.0   \n",
       "\n",
       "                         nFeature_CH  nFeature_RNA orig_ident  percent_mt  \\\n",
       "CellID                                                                      \n",
       "exp1_AAACCTGAGCCCAATT-1            6          2368       exp1    2.161383   \n",
       "exp1_AAACCTGTCCGCATAA-1            6          2207       exp1    2.217425   \n",
       "exp1_AAACGGGGTTACGGAG-1            6          1974       exp1    3.065199   \n",
       "exp1_AAACGGGTCGAATCCA-1            6          1879       exp1    1.993433   \n",
       "exp1_AAACGGGTCTGTGCAA-1            6          1167       exp1    3.746224   \n",
       "...                              ...           ...        ...         ...   \n",
       "exp1_TTTGGTTTCACATACG-1            6          2066       exp1    2.269153   \n",
       "exp1_TTTGTCAAGCTAGTCT-1            6          2748       exp1    2.465483   \n",
       "exp1_TTTGTCACAAGAAAGG-1            6          2146       exp1    2.085550   \n",
       "exp1_TTTGTCAGTCTGCCAG-1            6          2305       exp1    1.695924   \n",
       "exp1_TTTGTCATCTGGTTCC-1            6          1658       exp1    2.159244   \n",
       "\n",
       "                        clone     well experiment  CD_type  \n",
       "CellID                                                      \n",
       "exp1_AAACCTGAGCCCAATT-1   non  Sample1       exp1  unknown  \n",
       "exp1_AAACCTGTCCGCATAA-1    18  Sample1       exp1      CD4  \n",
       "exp1_AAACGGGGTTACGGAG-1   non  Sample1       exp1  unknown  \n",
       "exp1_AAACGGGTCGAATCCA-1    17  Sample1       exp1      CD8  \n",
       "exp1_AAACGGGTCTGTGCAA-1   non  Sample1       exp1  unknown  \n",
       "...                       ...      ...        ...      ...  \n",
       "exp1_TTTGGTTTCACATACG-1     1  Sample1       exp1      CD4  \n",
       "exp1_TTTGTCAAGCTAGTCT-1     1  Sample1       exp1      CD4  \n",
       "exp1_TTTGTCACAAGAAAGG-1    17  Sample1       exp1      CD8  \n",
       "exp1_TTTGTCAGTCTGCCAG-1     1  Sample1       exp1      CD4  \n",
       "exp1_TTTGTCATCTGGTTCC-1   non  Sample1       exp1  unknown  \n",
       "\n",
       "[1834 rows x 12 columns]"
      ]
     },
     "execution_count": 23,
     "metadata": {},
     "output_type": "execute_result"
    }
   ],
   "source": [
    "JM['exp1_Sample1'].obs"
   ]
  },
  {
   "cell_type": "code",
   "execution_count": 24,
   "id": "5b449e71",
   "metadata": {},
   "outputs": [
    {
     "data": {
      "text/plain": [
       "19409313"
      ]
     },
     "execution_count": 24,
     "metadata": {},
     "output_type": "execute_result"
    }
   ],
   "source": [
    "import sys\n",
    "sys.getsizeof(JM[ds])"
   ]
  },
  {
   "cell_type": "code",
   "execution_count": 25,
   "id": "e739c5b3",
   "metadata": {},
   "outputs": [],
   "source": [
    "for ds in datasets:\n",
    "    fn = 'Raw/JM_10X_'+ds+'.loom'\n",
    "    JM[ds].write_loom(fn)"
   ]
  },
  {
   "cell_type": "code",
   "execution_count": 26,
   "id": "d0fea1fe",
   "metadata": {},
   "outputs": [
    {
     "data": {
      "text/plain": [
       "18"
      ]
     },
     "execution_count": 26,
     "metadata": {},
     "output_type": "execute_result"
    }
   ],
   "source": [
    "len(datasets)"
   ]
  },
  {
   "cell_type": "markdown",
   "id": "d21bd857",
   "metadata": {},
   "source": [
    "# Preprocessing"
   ]
  },
  {
   "cell_type": "markdown",
   "id": "e9b5b8bd",
   "metadata": {},
   "source": [
    "We start by loading the data from separate loom files."
   ]
  },
  {
   "cell_type": "code",
   "execution_count": 27,
   "id": "7c89dae7",
   "metadata": {},
   "outputs": [],
   "source": [
    "JM = {}\n",
    "for ds in datasets:\n",
    "    fn = 'Raw/JM_10X_'+ds+'.loom'\n",
    "    JM[ds] = sc.read_loom(fn)"
   ]
  },
  {
   "cell_type": "markdown",
   "id": "45b6b1ae",
   "metadata": {},
   "source": [
    "## Quality control"
   ]
  },
  {
   "cell_type": "code",
   "execution_count": 28,
   "id": "536d56e5",
   "metadata": {},
   "outputs": [
    {
     "data": {
      "image/png": "[encoded data removed]",
      "text/plain": [
       "<Figure size 360x252 with 1 Axes>"
      ]
     },
     "metadata": {
      "needs_background": "light"
     },
     "output_type": "display_data"
    },
    {
     "data": {
      "image/png": "[encoded data removed]",
      "text/plain": [
       "<Figure size 360x252 with 1 Axes>"
      ]
     },
     "metadata": {
      "needs_background": "light"
     },
     "output_type": "display_data"
    },
    {
     "data": {
      "image/png": "[encoded data removed]",
      "text/plain": [
       "<Figure size 360x252 with 1 Axes>"
      ]
     },
     "metadata": {
      "needs_background": "light"
     },
     "output_type": "display_data"
    },
    {
     "data": {
      "image/png": "[encoded data removed]",
      "text/plain": [
       "<Figure size 360x252 with 1 Axes>"
      ]
     },
     "metadata": {
      "needs_background": "light"
     },
     "output_type": "display_data"
    },
    {
     "data": {
      "image/png": "[encoded data removed]",
      "text/plain": [
       "<Figure size 360x252 with 1 Axes>"
      ]
     },
     "metadata": {
      "needs_background": "light"
     },
     "output_type": "display_data"
    },
    {
     "data": {
      "image/png": "[encoded data removed]",
      "text/plain": [
       "<Figure size 360x252 with 1 Axes>"
      ]
     },
     "metadata": {
      "needs_background": "light"
     },
     "output_type": "display_data"
    },
    {
     "data": {
      "image/png": "[encoded data removed]",
      "text/plain": [
       "<Figure size 360x252 with 1 Axes>"
      ]
     },
     "metadata": {
      "needs_background": "light"
     },
     "output_type": "display_data"
    },
    {
     "data": {
      "image/png": "[encoded data removed]",
      "text/plain": [
       "<Figure size 360x252 with 1 Axes>"
      ]
     },
     "metadata": {
      "needs_background": "light"
     },
     "output_type": "display_data"
    },
    {
     "data": {
      "image/png": "[encoded data removed]",
      "text/plain": [
       "<Figure size 360x252 with 1 Axes>"
      ]
     },
     "metadata": {
      "needs_background": "light"
     },
     "output_type": "display_data"
    },
    {
     "data": {
      "image/png": "[encoded data removed]",
      "text/plain": [
       "<Figure size 360x252 with 1 Axes>"
      ]
     },
     "metadata": {
      "needs_background": "light"
     },
     "output_type": "display_data"
    },
    {
     "data": {
      "image/png": "[encoded data removed]",
      "text/plain": [
       "<Figure size 360x252 with 1 Axes>"
      ]
     },
     "metadata": {
      "needs_background": "light"
     },
     "output_type": "display_data"
    },
    {
     "data": {
      "image/png": "[encoded data removed]",
      "text/plain": [
       "<Figure size 360x252 with 1 Axes>"
      ]
     },
     "metadata": {
      "needs_background": "light"
     },
     "output_type": "display_data"
    },
    {
     "data": {
      "image/png": "[encoded data removed]",
      "text/plain": [
       "<Figure size 360x252 with 1 Axes>"
      ]
     },
     "metadata": {
      "needs_background": "light"
     },
     "output_type": "display_data"
    },
    {
     "data": {
      "image/png": "[encoded data removed]",
      "text/plain": [
       "<Figure size 360x252 with 1 Axes>"
      ]
     },
     "metadata": {
      "needs_background": "light"
     },
     "output_type": "display_data"
    },
    {
     "data": {
      "image/png": "[encoded data removed]",
      "text/plain": [
       "<Figure size 360x252 with 1 Axes>"
      ]
     },
     "metadata": {
      "needs_background": "light"
     },
     "output_type": "display_data"
    },
    {
     "data": {
      "image/png": "[encoded data removed]",
      "text/plain": [
       "<Figure size 360x252 with 1 Axes>"
      ]
     },
     "metadata": {
      "needs_background": "light"
     },
     "output_type": "display_data"
    },
    {
     "data": {
      "image/png": "[encoded data removed]",
      "text/plain": [
       "<Figure size 360x252 with 1 Axes>"
      ]
     },
     "metadata": {
      "needs_background": "light"
     },
     "output_type": "display_data"
    },
    {
     "data": {
      "image/png": "[encoded data removed]",
      "text/plain": [
       "<Figure size 360x252 with 1 Axes>"
      ]
     },
     "metadata": {
      "needs_background": "light"
     },
     "output_type": "display_data"
    }
   ],
   "source": [
    "for ds in datasets:\n",
    "    sc.pl.highest_expr_genes(JM[ds], n_top=10, log=False, show=False)"
   ]
  },
  {
   "cell_type": "code",
   "execution_count": 29,
   "id": "244cae5b",
   "metadata": {},
   "outputs": [],
   "source": [
    "for ds in datasets:\n",
    "    JM[ds].var['mt'] = JM[ds].var_names.str.startswith('MT-')  # annotate the group of mitochondrial genes as 'mt'\n",
    "    sc.pp.calculate_qc_metrics(JM[ds], qc_vars=['mt'], percent_top=None, inplace=True)"
   ]
  },
  {
   "cell_type": "code",
   "execution_count": 30,
   "id": "e3fc06aa",
   "metadata": {},
   "outputs": [
    {
     "data": {
      "image/png": "[encoded data removed]",
      "text/plain": [
       "<Figure size 864x1296 with 18 Axes>"
      ]
     },
     "metadata": {
      "needs_background": "light"
     },
     "output_type": "display_data"
    }
   ],
   "source": [
    "fig,ax = plt.subplots(6,3,figsize=(12,18))\n",
    "for j,ds in enumerate(datasets):\n",
    "    curr_ax = ax[j%6, j//6]\n",
    "    sns.scatterplot(x='n_genes_by_counts', y='total_counts', data=JM[ds].obs, ax=curr_ax)\n",
    "    curr_ax.set_xlim(0,7000)\n",
    "    curr_ax.set_ylim(0,25000)\n",
    "plt.show()"
   ]
  },
  {
   "cell_type": "markdown",
   "id": "e09b3ab8",
   "metadata": {},
   "source": [
    "## Note:  we might want to filter out some cells here based on total counts?  "
   ]
  },
  {
   "cell_type": "markdown",
   "id": "fbfec491",
   "metadata": {},
   "source": [
    "## Normalization and filtering"
   ]
  },
  {
   "cell_type": "markdown",
   "id": "8f8f357e",
   "metadata": {},
   "source": [
    "Normalization to 10000-count, excluding highly variable genes"
   ]
  },
  {
   "cell_type": "code",
   "execution_count": 31,
   "id": "d87a2a9a",
   "metadata": {},
   "outputs": [
    {
     "name": "stderr",
     "output_type": "stream",
     "text": [
      "/opt/anaconda3/lib/python3.8/site-packages/scanpy/preprocessing/_highly_variable_genes.py:144: FutureWarning: Slicing a positional slice with .loc is not supported, and will raise TypeError in a future version.  Use .loc with labels or .iloc with positions instead.\n",
      "  df.loc[: int(n_top_genes), 'highly_variable'] = True\n"
     ]
    }
   ],
   "source": [
    "for ds in datasets:\n",
    "    sc.pp.highly_variable_genes(JM[ds], n_top_genes=1000, flavor='seurat_v3')\n",
    "    sc.pp.normalize_total(JM[ds], target_sum = 10000, exclude_highly_expressed=True) #Normalize "
   ]
  },
  {
   "cell_type": "markdown",
   "id": "54a8120a",
   "metadata": {},
   "source": [
    "Filter out never expressed genes."
   ]
  },
  {
   "cell_type": "code",
   "execution_count": 32,
   "id": "98452f94",
   "metadata": {},
   "outputs": [
    {
     "name": "stdout",
     "output_type": "stream",
     "text": [
      "Dataset exp1_Sample2 has 36601 genes before and 19561 after filtering.\n",
      "Dataset exp1_Sample1 has 36601 genes before and 19146 after filtering.\n",
      "Dataset exp1_Sample6 has 36601 genes before and 19950 after filtering.\n",
      "Dataset exp1_Sample5 has 36601 genes before and 19359 after filtering.\n",
      "Dataset exp1_Sample4 has 36601 genes before and 19434 after filtering.\n",
      "Dataset exp1_Sample3 has 36601 genes before and 19093 after filtering.\n",
      "Dataset exp2_Sample3 has 36601 genes before and 17913 after filtering.\n",
      "Dataset exp2_Sample6 has 36601 genes before and 20525 after filtering.\n",
      "Dataset exp2_Sample4 has 36601 genes before and 19091 after filtering.\n",
      "Dataset exp2_Sample1 has 36601 genes before and 15588 after filtering.\n",
      "Dataset exp2_Sample2 has 36601 genes before and 18607 after filtering.\n",
      "Dataset exp2_Sample5 has 36601 genes before and 21028 after filtering.\n",
      "Dataset exp3_Sample2 has 36601 genes before and 20403 after filtering.\n",
      "Dataset exp3_Sample1 has 36601 genes before and 22040 after filtering.\n",
      "Dataset exp3_Sample4 has 36601 genes before and 20943 after filtering.\n",
      "Dataset exp3_Sample3 has 36601 genes before and 19415 after filtering.\n",
      "Dataset exp3_Sample5 has 36601 genes before and 18016 after filtering.\n",
      "Dataset exp3_Sample6 has 36601 genes before and 17101 after filtering.\n"
     ]
    }
   ],
   "source": [
    "for ds in datasets:\n",
    "    genes_before = JM[ds].n_vars\n",
    "    sc.pp.filter_genes(JM[ds], min_counts=1) # At least 1 count.\n",
    "    genes_after = JM[ds].n_vars\n",
    "    print('Dataset {} has {} genes before and {} after filtering.'.format(ds, genes_before,genes_after))"
   ]
  },
  {
   "cell_type": "markdown",
   "id": "46c50f26",
   "metadata": {},
   "source": [
    "Pseudo-log normalize."
   ]
  },
  {
   "cell_type": "code",
   "execution_count": 33,
   "id": "7fa3ab52",
   "metadata": {},
   "outputs": [],
   "source": [
    "for ds in datasets:\n",
    "    sc.pp.log1p(JM[ds]) #pseudo-log transform"
   ]
  },
  {
   "cell_type": "markdown",
   "id": "1df1c21d",
   "metadata": {},
   "source": [
    "Exclude T-cell receptor genes."
   ]
  },
  {
   "cell_type": "code",
   "execution_count": 34,
   "id": "0ba87092",
   "metadata": {},
   "outputs": [],
   "source": [
    "def drop_TRs(ad, filename='Raw/TR_gene_data.csv'):\n",
    "    ad_out = ad\n",
    "    TR_gene_df = pd.read_csv(filename, index_col=0)\n",
    "    TR_genes = TR_gene_df['gene_name'].values\n",
    "    bad_genes = [gene for gene in ad_out.var_names if gene in TR_genes]\n",
    "    print('{} genes removed.'.format(len(bad_genes)))\n",
    "    keep_genes = [gene for gene in ad_out.var_names if not gene in bad_genes]\n",
    "    ad_out = ad_out[:, keep_genes]\n",
    "    return ad_out"
   ]
  },
  {
   "cell_type": "code",
   "execution_count": 35,
   "id": "64c1bfb6",
   "metadata": {},
   "outputs": [
    {
     "name": "stdout",
     "output_type": "stream",
     "text": [
      "153 genes removed.\n",
      "149 genes removed.\n",
      "155 genes removed.\n",
      "162 genes removed.\n",
      "160 genes removed.\n",
      "163 genes removed.\n",
      "142 genes removed.\n",
      "177 genes removed.\n",
      "155 genes removed.\n",
      "131 genes removed.\n",
      "157 genes removed.\n",
      "178 genes removed.\n",
      "167 genes removed.\n",
      "180 genes removed.\n",
      "170 genes removed.\n",
      "159 genes removed.\n",
      "144 genes removed.\n",
      "144 genes removed.\n"
     ]
    }
   ],
   "source": [
    "for ds in datasets:\n",
    "    JM[ds] = drop_TRs(JM[ds])"
   ]
  },
  {
   "cell_type": "code",
   "execution_count": 36,
   "id": "3a23510f",
   "metadata": {},
   "outputs": [
    {
     "name": "stdout",
     "output_type": "stream",
     "text": [
      "Summary of AnnData object for (shape = #samples x #genes), exp1_Sample2\n",
      "View of AnnData object with n_obs × n_vars = 2257 × 19408\n",
      "    obs: 'CD_type', 'clone', 'clone_ID', 'experiment', 'hash_ID', 'nCount_CH', 'nCount_RNA', 'nFeature_CH', 'nFeature_RNA', 'orig_ident', 'percent_mt', 'well', 'n_genes_by_counts', 'log1p_n_genes_by_counts', 'total_counts', 'log1p_total_counts', 'total_counts_mt', 'log1p_total_counts_mt', 'pct_counts_mt'\n",
      "    var: 'mt', 'n_cells_by_counts', 'mean_counts', 'log1p_mean_counts', 'pct_dropout_by_counts', 'total_counts', 'log1p_total_counts', 'highly_variable', 'highly_variable_rank', 'means', 'variances', 'variances_norm', 'n_counts'\n",
      "    uns: 'hvg', 'log1p'\n",
      "================================================================================\n",
      "Summary of AnnData object for (shape = #samples x #genes), exp1_Sample1\n",
      "View of AnnData object with n_obs × n_vars = 1834 × 18997\n",
      "    obs: 'CD_type', 'clone', 'clone_ID', 'experiment', 'hash_ID', 'nCount_CH', 'nCount_RNA', 'nFeature_CH', 'nFeature_RNA', 'orig_ident', 'percent_mt', 'well', 'n_genes_by_counts', 'log1p_n_genes_by_counts', 'total_counts', 'log1p_total_counts', 'total_counts_mt', 'log1p_total_counts_mt', 'pct_counts_mt'\n",
      "    var: 'mt', 'n_cells_by_counts', 'mean_counts', 'log1p_mean_counts', 'pct_dropout_by_counts', 'total_counts', 'log1p_total_counts', 'highly_variable', 'highly_variable_rank', 'means', 'variances', 'variances_norm', 'n_counts'\n",
      "    uns: 'hvg', 'log1p'\n",
      "================================================================================\n",
      "Summary of AnnData object for (shape = #samples x #genes), exp1_Sample6\n",
      "View of AnnData object with n_obs × n_vars = 2326 × 19795\n",
      "    obs: 'CD_type', 'clone', 'clone_ID', 'experiment', 'hash_ID', 'nCount_CH', 'nCount_RNA', 'nFeature_CH', 'nFeature_RNA', 'orig_ident', 'percent_mt', 'well', 'n_genes_by_counts', 'log1p_n_genes_by_counts', 'total_counts', 'log1p_total_counts', 'total_counts_mt', 'log1p_total_counts_mt', 'pct_counts_mt'\n",
      "    var: 'mt', 'n_cells_by_counts', 'mean_counts', 'log1p_mean_counts', 'pct_dropout_by_counts', 'total_counts', 'log1p_total_counts', 'highly_variable', 'highly_variable_rank', 'means', 'variances', 'variances_norm', 'n_counts'\n",
      "    uns: 'hvg', 'log1p'\n",
      "================================================================================\n",
      "Summary of AnnData object for (shape = #samples x #genes), exp1_Sample5\n",
      "View of AnnData object with n_obs × n_vars = 2217 × 19197\n",
      "    obs: 'CD_type', 'clone', 'clone_ID', 'experiment', 'hash_ID', 'nCount_CH', 'nCount_RNA', 'nFeature_CH', 'nFeature_RNA', 'orig_ident', 'percent_mt', 'well', 'n_genes_by_counts', 'log1p_n_genes_by_counts', 'total_counts', 'log1p_total_counts', 'total_counts_mt', 'log1p_total_counts_mt', 'pct_counts_mt'\n",
      "    var: 'mt', 'n_cells_by_counts', 'mean_counts', 'log1p_mean_counts', 'pct_dropout_by_counts', 'total_counts', 'log1p_total_counts', 'highly_variable', 'highly_variable_rank', 'means', 'variances', 'variances_norm', 'n_counts'\n",
      "    uns: 'hvg', 'log1p'\n",
      "================================================================================\n",
      "Summary of AnnData object for (shape = #samples x #genes), exp1_Sample4\n",
      "View of AnnData object with n_obs × n_vars = 2494 × 19274\n",
      "    obs: 'CD_type', 'clone', 'clone_ID', 'experiment', 'hash_ID', 'nCount_CH', 'nCount_RNA', 'nFeature_CH', 'nFeature_RNA', 'orig_ident', 'percent_mt', 'well', 'n_genes_by_counts', 'log1p_n_genes_by_counts', 'total_counts', 'log1p_total_counts', 'total_counts_mt', 'log1p_total_counts_mt', 'pct_counts_mt'\n",
      "    var: 'mt', 'n_cells_by_counts', 'mean_counts', 'log1p_mean_counts', 'pct_dropout_by_counts', 'total_counts', 'log1p_total_counts', 'highly_variable', 'highly_variable_rank', 'means', 'variances', 'variances_norm', 'n_counts'\n",
      "    uns: 'hvg', 'log1p'\n",
      "================================================================================\n",
      "Summary of AnnData object for (shape = #samples x #genes), exp1_Sample3\n",
      "View of AnnData object with n_obs × n_vars = 2365 × 18930\n",
      "    obs: 'CD_type', 'clone', 'clone_ID', 'experiment', 'hash_ID', 'nCount_CH', 'nCount_RNA', 'nFeature_CH', 'nFeature_RNA', 'orig_ident', 'percent_mt', 'well', 'n_genes_by_counts', 'log1p_n_genes_by_counts', 'total_counts', 'log1p_total_counts', 'total_counts_mt', 'log1p_total_counts_mt', 'pct_counts_mt'\n",
      "    var: 'mt', 'n_cells_by_counts', 'mean_counts', 'log1p_mean_counts', 'pct_dropout_by_counts', 'total_counts', 'log1p_total_counts', 'highly_variable', 'highly_variable_rank', 'means', 'variances', 'variances_norm', 'n_counts'\n",
      "    uns: 'hvg', 'log1p'\n",
      "================================================================================\n",
      "Summary of AnnData object for (shape = #samples x #genes), exp2_Sample3\n",
      "View of AnnData object with n_obs × n_vars = 1353 × 17771\n",
      "    obs: 'CD_type', 'clone', 'clone_ID', 'experiment', 'hash_ID', 'nCount_CH', 'nCount_RNA', 'nFeature_CH', 'nFeature_RNA', 'orig_ident', 'percent_mt', 'well', 'n_genes_by_counts', 'log1p_n_genes_by_counts', 'total_counts', 'log1p_total_counts', 'total_counts_mt', 'log1p_total_counts_mt', 'pct_counts_mt'\n",
      "    var: 'mt', 'n_cells_by_counts', 'mean_counts', 'log1p_mean_counts', 'pct_dropout_by_counts', 'total_counts', 'log1p_total_counts', 'highly_variable', 'highly_variable_rank', 'means', 'variances', 'variances_norm', 'n_counts'\n",
      "    uns: 'hvg', 'log1p'\n",
      "================================================================================\n",
      "Summary of AnnData object for (shape = #samples x #genes), exp2_Sample6\n",
      "View of AnnData object with n_obs × n_vars = 2596 × 20348\n",
      "    obs: 'CD_type', 'clone', 'clone_ID', 'experiment', 'hash_ID', 'nCount_CH', 'nCount_RNA', 'nFeature_CH', 'nFeature_RNA', 'orig_ident', 'percent_mt', 'well', 'n_genes_by_counts', 'log1p_n_genes_by_counts', 'total_counts', 'log1p_total_counts', 'total_counts_mt', 'log1p_total_counts_mt', 'pct_counts_mt'\n",
      "    var: 'mt', 'n_cells_by_counts', 'mean_counts', 'log1p_mean_counts', 'pct_dropout_by_counts', 'total_counts', 'log1p_total_counts', 'highly_variable', 'highly_variable_rank', 'means', 'variances', 'variances_norm', 'n_counts'\n",
      "    uns: 'hvg', 'log1p'\n",
      "================================================================================\n",
      "Summary of AnnData object for (shape = #samples x #genes), exp2_Sample4\n",
      "View of AnnData object with n_obs × n_vars = 1829 × 18936\n",
      "    obs: 'CD_type', 'clone', 'clone_ID', 'experiment', 'hash_ID', 'nCount_CH', 'nCount_RNA', 'nFeature_CH', 'nFeature_RNA', 'orig_ident', 'percent_mt', 'well', 'n_genes_by_counts', 'log1p_n_genes_by_counts', 'total_counts', 'log1p_total_counts', 'total_counts_mt', 'log1p_total_counts_mt', 'pct_counts_mt'\n",
      "    var: 'mt', 'n_cells_by_counts', 'mean_counts', 'log1p_mean_counts', 'pct_dropout_by_counts', 'total_counts', 'log1p_total_counts', 'highly_variable', 'highly_variable_rank', 'means', 'variances', 'variances_norm', 'n_counts'\n",
      "    uns: 'hvg', 'log1p'\n",
      "================================================================================\n",
      "Summary of AnnData object for (shape = #samples x #genes), exp2_Sample1\n",
      "View of AnnData object with n_obs × n_vars = 544 × 15457\n",
      "    obs: 'CD_type', 'clone', 'clone_ID', 'experiment', 'hash_ID', 'nCount_CH', 'nCount_RNA', 'nFeature_CH', 'nFeature_RNA', 'orig_ident', 'percent_mt', 'well', 'n_genes_by_counts', 'log1p_n_genes_by_counts', 'total_counts', 'log1p_total_counts', 'total_counts_mt', 'log1p_total_counts_mt', 'pct_counts_mt'\n",
      "    var: 'mt', 'n_cells_by_counts', 'mean_counts', 'log1p_mean_counts', 'pct_dropout_by_counts', 'total_counts', 'log1p_total_counts', 'highly_variable', 'highly_variable_rank', 'means', 'variances', 'variances_norm', 'n_counts'\n",
      "    uns: 'hvg', 'log1p'\n",
      "================================================================================\n",
      "Summary of AnnData object for (shape = #samples x #genes), exp2_Sample2\n",
      "View of AnnData object with n_obs × n_vars = 1842 × 18450\n",
      "    obs: 'CD_type', 'clone', 'clone_ID', 'experiment', 'hash_ID', 'nCount_CH', 'nCount_RNA', 'nFeature_CH', 'nFeature_RNA', 'orig_ident', 'percent_mt', 'well', 'n_genes_by_counts', 'log1p_n_genes_by_counts', 'total_counts', 'log1p_total_counts', 'total_counts_mt', 'log1p_total_counts_mt', 'pct_counts_mt'\n",
      "    var: 'mt', 'n_cells_by_counts', 'mean_counts', 'log1p_mean_counts', 'pct_dropout_by_counts', 'total_counts', 'log1p_total_counts', 'highly_variable', 'highly_variable_rank', 'means', 'variances', 'variances_norm', 'n_counts'\n",
      "    uns: 'hvg', 'log1p'\n",
      "================================================================================\n",
      "Summary of AnnData object for (shape = #samples x #genes), exp2_Sample5\n",
      "View of AnnData object with n_obs × n_vars = 2979 × 20850\n",
      "    obs: 'CD_type', 'clone', 'clone_ID', 'experiment', 'hash_ID', 'nCount_CH', 'nCount_RNA', 'nFeature_CH', 'nFeature_RNA', 'orig_ident', 'percent_mt', 'well', 'n_genes_by_counts', 'log1p_n_genes_by_counts', 'total_counts', 'log1p_total_counts', 'total_counts_mt', 'log1p_total_counts_mt', 'pct_counts_mt'\n",
      "    var: 'mt', 'n_cells_by_counts', 'mean_counts', 'log1p_mean_counts', 'pct_dropout_by_counts', 'total_counts', 'log1p_total_counts', 'highly_variable', 'highly_variable_rank', 'means', 'variances', 'variances_norm', 'n_counts'\n",
      "    uns: 'hvg', 'log1p'\n",
      "================================================================================\n",
      "Summary of AnnData object for (shape = #samples x #genes), exp3_Sample2\n",
      "View of AnnData object with n_obs × n_vars = 3868 × 20236\n",
      "    obs: 'CD_type', 'clone', 'clone_ID', 'experiment', 'hash_ID', 'nCount_CH', 'nCount_RNA', 'nFeature_CH', 'nFeature_RNA', 'orig_ident', 'percent_mt', 'well', 'n_genes_by_counts', 'log1p_n_genes_by_counts', 'total_counts', 'log1p_total_counts', 'total_counts_mt', 'log1p_total_counts_mt', 'pct_counts_mt'\n",
      "    var: 'mt', 'n_cells_by_counts', 'mean_counts', 'log1p_mean_counts', 'pct_dropout_by_counts', 'total_counts', 'log1p_total_counts', 'highly_variable', 'highly_variable_rank', 'means', 'variances', 'variances_norm', 'n_counts'\n",
      "    uns: 'hvg', 'log1p'\n",
      "================================================================================\n",
      "Summary of AnnData object for (shape = #samples x #genes), exp3_Sample1\n",
      "View of AnnData object with n_obs × n_vars = 7042 × 21860\n",
      "    obs: 'CD_type', 'clone', 'clone_ID', 'experiment', 'hash_ID', 'nCount_CH', 'nCount_RNA', 'nFeature_CH', 'nFeature_RNA', 'orig_ident', 'percent_mt', 'well', 'n_genes_by_counts', 'log1p_n_genes_by_counts', 'total_counts', 'log1p_total_counts', 'total_counts_mt', 'log1p_total_counts_mt', 'pct_counts_mt'\n",
      "    var: 'mt', 'n_cells_by_counts', 'mean_counts', 'log1p_mean_counts', 'pct_dropout_by_counts', 'total_counts', 'log1p_total_counts', 'highly_variable', 'highly_variable_rank', 'means', 'variances', 'variances_norm', 'n_counts'\n",
      "    uns: 'hvg', 'log1p'\n",
      "================================================================================\n",
      "Summary of AnnData object for (shape = #samples x #genes), exp3_Sample4\n",
      "View of AnnData object with n_obs × n_vars = 5449 × 20773\n",
      "    obs: 'CD_type', 'clone', 'clone_ID', 'experiment', 'hash_ID', 'nCount_CH', 'nCount_RNA', 'nFeature_CH', 'nFeature_RNA', 'orig_ident', 'percent_mt', 'well', 'n_genes_by_counts', 'log1p_n_genes_by_counts', 'total_counts', 'log1p_total_counts', 'total_counts_mt', 'log1p_total_counts_mt', 'pct_counts_mt'\n",
      "    var: 'mt', 'n_cells_by_counts', 'mean_counts', 'log1p_mean_counts', 'pct_dropout_by_counts', 'total_counts', 'log1p_total_counts', 'highly_variable', 'highly_variable_rank', 'means', 'variances', 'variances_norm', 'n_counts'\n",
      "    uns: 'hvg', 'log1p'\n",
      "================================================================================\n",
      "Summary of AnnData object for (shape = #samples x #genes), exp3_Sample3\n",
      "View of AnnData object with n_obs × n_vars = 3106 × 19256\n",
      "    obs: 'CD_type', 'clone', 'clone_ID', 'experiment', 'hash_ID', 'nCount_CH', 'nCount_RNA', 'nFeature_CH', 'nFeature_RNA', 'orig_ident', 'percent_mt', 'well', 'n_genes_by_counts', 'log1p_n_genes_by_counts', 'total_counts', 'log1p_total_counts', 'total_counts_mt', 'log1p_total_counts_mt', 'pct_counts_mt'\n",
      "    var: 'mt', 'n_cells_by_counts', 'mean_counts', 'log1p_mean_counts', 'pct_dropout_by_counts', 'total_counts', 'log1p_total_counts', 'highly_variable', 'highly_variable_rank', 'means', 'variances', 'variances_norm', 'n_counts'\n",
      "    uns: 'hvg', 'log1p'\n",
      "================================================================================\n",
      "Summary of AnnData object for (shape = #samples x #genes), exp3_Sample5\n",
      "View of AnnData object with n_obs × n_vars = 1759 × 17872\n",
      "    obs: 'CD_type', 'clone', 'clone_ID', 'experiment', 'hash_ID', 'nCount_CH', 'nCount_RNA', 'nFeature_CH', 'nFeature_RNA', 'orig_ident', 'percent_mt', 'well', 'n_genes_by_counts', 'log1p_n_genes_by_counts', 'total_counts', 'log1p_total_counts', 'total_counts_mt', 'log1p_total_counts_mt', 'pct_counts_mt'\n",
      "    var: 'mt', 'n_cells_by_counts', 'mean_counts', 'log1p_mean_counts', 'pct_dropout_by_counts', 'total_counts', 'log1p_total_counts', 'highly_variable', 'highly_variable_rank', 'means', 'variances', 'variances_norm', 'n_counts'\n",
      "    uns: 'hvg', 'log1p'\n",
      "================================================================================\n",
      "Summary of AnnData object for (shape = #samples x #genes), exp3_Sample6\n",
      "View of AnnData object with n_obs × n_vars = 1053 × 16957\n",
      "    obs: 'CD_type', 'clone', 'clone_ID', 'experiment', 'hash_ID', 'nCount_CH', 'nCount_RNA', 'nFeature_CH', 'nFeature_RNA', 'orig_ident', 'percent_mt', 'well', 'n_genes_by_counts', 'log1p_n_genes_by_counts', 'total_counts', 'log1p_total_counts', 'total_counts_mt', 'log1p_total_counts_mt', 'pct_counts_mt'\n",
      "    var: 'mt', 'n_cells_by_counts', 'mean_counts', 'log1p_mean_counts', 'pct_dropout_by_counts', 'total_counts', 'log1p_total_counts', 'highly_variable', 'highly_variable_rank', 'means', 'variances', 'variances_norm', 'n_counts'\n",
      "    uns: 'hvg', 'log1p'\n",
      "================================================================================\n"
     ]
    }
   ],
   "source": [
    "for ds in datasets:\n",
    "    print('Summary of AnnData object for (shape = #samples x #genes), {}'.format(ds))\n",
    "    print(JM[ds])\n",
    "    hrule()"
   ]
  },
  {
   "cell_type": "markdown",
   "id": "db1f6160",
   "metadata": {},
   "source": [
    "# Make clonal analysis datasets"
   ]
  },
  {
   "cell_type": "code",
   "execution_count": 37,
   "id": "c21942b9",
   "metadata": {},
   "outputs": [
    {
     "name": "stdout",
     "output_type": "stream",
     "text": [
      "Dataset exp1_Sample2 has 2257 cells\n",
      "1860 cells have an assigned clone.\n",
      "4 clones with at least 10 cells each\n",
      "1852 cells belong to these big-enough clones.\n",
      "New AnnData Object Created for exp1_Sample2.\n",
      "================================================================================\n",
      "Dataset exp1_Sample1 has 1834 cells\n",
      "1109 cells have an assigned clone.\n",
      "5 clones with at least 10 cells each\n",
      "1107 cells belong to these big-enough clones.\n",
      "New AnnData Object Created for exp1_Sample1.\n",
      "================================================================================\n",
      "Dataset exp1_Sample6 has 2326 cells\n",
      "1761 cells have an assigned clone.\n",
      "5 clones with at least 10 cells each\n",
      "1761 cells belong to these big-enough clones.\n",
      "New AnnData Object Created for exp1_Sample6.\n",
      "================================================================================\n",
      "Dataset exp1_Sample5 has 2217 cells\n",
      "1867 cells have an assigned clone.\n",
      "4 clones with at least 10 cells each\n",
      "1862 cells belong to these big-enough clones.\n",
      "New AnnData Object Created for exp1_Sample5.\n",
      "================================================================================\n",
      "Dataset exp1_Sample4 has 2494 cells\n",
      "2003 cells have an assigned clone.\n",
      "6 clones with at least 10 cells each\n",
      "2003 cells belong to these big-enough clones.\n",
      "New AnnData Object Created for exp1_Sample4.\n",
      "================================================================================\n",
      "Dataset exp1_Sample3 has 2365 cells\n",
      "1710 cells have an assigned clone.\n",
      "6 clones with at least 10 cells each\n",
      "1710 cells belong to these big-enough clones.\n",
      "New AnnData Object Created for exp1_Sample3.\n",
      "================================================================================\n",
      "Dataset exp2_Sample3 has 1353 cells\n",
      "974 cells have an assigned clone.\n",
      "11 clones with at least 10 cells each\n",
      "931 cells belong to these big-enough clones.\n",
      "New AnnData Object Created for exp2_Sample3.\n",
      "================================================================================\n",
      "Dataset exp2_Sample6 has 2596 cells\n",
      "1635 cells have an assigned clone.\n",
      "22 clones with at least 10 cells each\n",
      "1610 cells belong to these big-enough clones.\n",
      "New AnnData Object Created for exp2_Sample6.\n",
      "================================================================================\n",
      "Dataset exp2_Sample4 has 1829 cells\n",
      "1098 cells have an assigned clone.\n",
      "21 clones with at least 10 cells each\n",
      "1053 cells belong to these big-enough clones.\n",
      "New AnnData Object Created for exp2_Sample4.\n",
      "================================================================================\n",
      "Dataset exp2_Sample1 has 544 cells\n",
      "261 cells have an assigned clone.\n",
      "7 clones with at least 10 cells each\n",
      "194 cells belong to these big-enough clones.\n",
      "New AnnData Object Created for exp2_Sample1.\n",
      "================================================================================\n",
      "Dataset exp2_Sample2 has 1842 cells\n",
      "1237 cells have an assigned clone.\n",
      "21 clones with at least 10 cells each\n",
      "1205 cells belong to these big-enough clones.\n",
      "New AnnData Object Created for exp2_Sample2.\n",
      "================================================================================\n",
      "Dataset exp2_Sample5 has 2979 cells\n",
      "1824 cells have an assigned clone.\n",
      "22 clones with at least 10 cells each\n",
      "1775 cells belong to these big-enough clones.\n",
      "New AnnData Object Created for exp2_Sample5.\n",
      "================================================================================\n",
      "Dataset exp3_Sample2 has 3868 cells\n",
      "2275 cells have an assigned clone.\n",
      "15 clones with at least 10 cells each\n",
      "2253 cells belong to these big-enough clones.\n",
      "New AnnData Object Created for exp3_Sample2.\n",
      "================================================================================\n",
      "Dataset exp3_Sample1 has 7042 cells\n",
      "2948 cells have an assigned clone.\n",
      "18 clones with at least 10 cells each\n",
      "2941 cells belong to these big-enough clones.\n",
      "New AnnData Object Created for exp3_Sample1.\n",
      "================================================================================\n",
      "Dataset exp3_Sample4 has 5449 cells\n",
      "3426 cells have an assigned clone.\n",
      "17 clones with at least 10 cells each\n",
      "3416 cells belong to these big-enough clones.\n",
      "New AnnData Object Created for exp3_Sample4.\n",
      "================================================================================\n",
      "Dataset exp3_Sample3 has 3106 cells\n",
      "1962 cells have an assigned clone.\n",
      "18 clones with at least 10 cells each\n",
      "1962 cells belong to these big-enough clones.\n",
      "New AnnData Object Created for exp3_Sample3.\n",
      "================================================================================\n",
      "Dataset exp3_Sample5 has 1759 cells\n",
      "1177 cells have an assigned clone.\n",
      "16 clones with at least 10 cells each\n",
      "1169 cells belong to these big-enough clones.\n",
      "New AnnData Object Created for exp3_Sample5.\n",
      "================================================================================\n",
      "Dataset exp3_Sample6 has 1053 cells\n",
      "636 cells have an assigned clone.\n",
      "15 clones with at least 10 cells each\n",
      "624 cells belong to these big-enough clones.\n",
      "New AnnData Object Created for exp3_Sample6.\n",
      "================================================================================\n"
     ]
    }
   ],
   "source": [
    "ad = {}\n",
    "for ds in datasets:\n",
    "    adata = JM[ds].copy()\n",
    "    print('Dataset {} has {} cells'.format(ds, len(adata.obs)))\n",
    "    e_ds = ds.split('_')[0]\n",
    "    has_clone = adata.obs[adata.obs.clone_ID != e_ds+'_non'].index\n",
    "    print('{} cells have an assigned clone.'.format(len(has_clone)))\n",
    "    vcs = adata.obs.loc[has_clone].clone_ID.value_counts()\n",
    "    allclones = vcs.index\n",
    "    bigclones = vcs[vcs >= 10].index\n",
    "    print('{} clones with at least 10 cells each'.format(len(bigclones)))\n",
    "    bc_cells = adata.obs[adata.obs.clone_ID.isin(bigclones)].index\n",
    "    print('{} cells belong to these big-enough clones.'.format(len(bc_cells)))\n",
    "    print('New AnnData Object Created for {}.'.format(ds))\n",
    "    goodcells = adata.obs[adata.obs.clone_ID.isin(allclones)].index\n",
    "    ad[ds] = adata[goodcells]\n",
    "    #print(ad[ds])\n",
    "    hrule()"
   ]
  },
  {
   "cell_type": "code",
   "execution_count": 38,
   "id": "6a599728",
   "metadata": {},
   "outputs": [
    {
     "data": {
      "text/html": [
       "<div>\n",
       "<style scoped>\n",
       "    .dataframe tbody tr th:only-of-type {\n",
       "        vertical-align: middle;\n",
       "    }\n",
       "\n",
       "    .dataframe tbody tr th {\n",
       "        vertical-align: top;\n",
       "    }\n",
       "\n",
       "    .dataframe thead th {\n",
       "        text-align: right;\n",
       "    }\n",
       "</style>\n",
       "<table border=\"1\" class=\"dataframe\">\n",
       "  <thead>\n",
       "    <tr style=\"text-align: right;\">\n",
       "      <th></th>\n",
       "      <th>CD_type</th>\n",
       "      <th>clone</th>\n",
       "      <th>clone_ID</th>\n",
       "      <th>experiment</th>\n",
       "      <th>hash_ID</th>\n",
       "      <th>nCount_CH</th>\n",
       "      <th>nCount_RNA</th>\n",
       "      <th>nFeature_CH</th>\n",
       "      <th>nFeature_RNA</th>\n",
       "      <th>orig_ident</th>\n",
       "      <th>percent_mt</th>\n",
       "      <th>well</th>\n",
       "      <th>n_genes_by_counts</th>\n",
       "      <th>log1p_n_genes_by_counts</th>\n",
       "      <th>total_counts</th>\n",
       "      <th>log1p_total_counts</th>\n",
       "      <th>total_counts_mt</th>\n",
       "      <th>log1p_total_counts_mt</th>\n",
       "      <th>pct_counts_mt</th>\n",
       "    </tr>\n",
       "    <tr>\n",
       "      <th>CellID</th>\n",
       "      <th></th>\n",
       "      <th></th>\n",
       "      <th></th>\n",
       "      <th></th>\n",
       "      <th></th>\n",
       "      <th></th>\n",
       "      <th></th>\n",
       "      <th></th>\n",
       "      <th></th>\n",
       "      <th></th>\n",
       "      <th></th>\n",
       "      <th></th>\n",
       "      <th></th>\n",
       "      <th></th>\n",
       "      <th></th>\n",
       "      <th></th>\n",
       "      <th></th>\n",
       "      <th></th>\n",
       "      <th></th>\n",
       "    </tr>\n",
       "  </thead>\n",
       "  <tbody>\n",
       "    <tr>\n",
       "      <th>exp3_AAACCTGGTCCGAAGA-1</th>\n",
       "      <td>CD4</td>\n",
       "      <td>2</td>\n",
       "      <td>exp3_2</td>\n",
       "      <td>exp3</td>\n",
       "      <td>exp3_Sample6</td>\n",
       "      <td>545.0</td>\n",
       "      <td>4069.0</td>\n",
       "      <td>6</td>\n",
       "      <td>2038</td>\n",
       "      <td>exp3</td>\n",
       "      <td>0.909314</td>\n",
       "      <td>Sample6</td>\n",
       "      <td>2038</td>\n",
       "      <td>7.620215</td>\n",
       "      <td>4069.0</td>\n",
       "      <td>8.311399</td>\n",
       "      <td>37.0</td>\n",
       "      <td>3.637586</td>\n",
       "      <td>0.909314</td>\n",
       "    </tr>\n",
       "    <tr>\n",
       "      <th>exp3_AAACCTGGTTGGTTTG-1</th>\n",
       "      <td>CD4</td>\n",
       "      <td>1</td>\n",
       "      <td>exp3_1</td>\n",
       "      <td>exp3</td>\n",
       "      <td>exp3_Sample6</td>\n",
       "      <td>469.0</td>\n",
       "      <td>3501.0</td>\n",
       "      <td>5</td>\n",
       "      <td>1780</td>\n",
       "      <td>exp3</td>\n",
       "      <td>1.142531</td>\n",
       "      <td>Sample6</td>\n",
       "      <td>1780</td>\n",
       "      <td>7.484930</td>\n",
       "      <td>3501.0</td>\n",
       "      <td>8.161090</td>\n",
       "      <td>40.0</td>\n",
       "      <td>3.713572</td>\n",
       "      <td>1.142531</td>\n",
       "    </tr>\n",
       "    <tr>\n",
       "      <th>exp3_AAACGGGAGATAGTCA-1</th>\n",
       "      <td>CD4</td>\n",
       "      <td>2</td>\n",
       "      <td>exp3_2</td>\n",
       "      <td>exp3</td>\n",
       "      <td>exp3_Sample6</td>\n",
       "      <td>361.0</td>\n",
       "      <td>3496.0</td>\n",
       "      <td>6</td>\n",
       "      <td>1704</td>\n",
       "      <td>exp3</td>\n",
       "      <td>1.344394</td>\n",
       "      <td>Sample6</td>\n",
       "      <td>1704</td>\n",
       "      <td>7.441320</td>\n",
       "      <td>3496.0</td>\n",
       "      <td>8.159660</td>\n",
       "      <td>47.0</td>\n",
       "      <td>3.871201</td>\n",
       "      <td>1.344394</td>\n",
       "    </tr>\n",
       "    <tr>\n",
       "      <th>exp3_AAAGATGAGGTGGGTT-1</th>\n",
       "      <td>CD4</td>\n",
       "      <td>12</td>\n",
       "      <td>exp3_12</td>\n",
       "      <td>exp3</td>\n",
       "      <td>exp3_Sample6</td>\n",
       "      <td>446.0</td>\n",
       "      <td>4648.0</td>\n",
       "      <td>6</td>\n",
       "      <td>2018</td>\n",
       "      <td>exp3</td>\n",
       "      <td>0.666954</td>\n",
       "      <td>Sample6</td>\n",
       "      <td>2018</td>\n",
       "      <td>7.610358</td>\n",
       "      <td>4648.0</td>\n",
       "      <td>8.444407</td>\n",
       "      <td>31.0</td>\n",
       "      <td>3.465736</td>\n",
       "      <td>0.666954</td>\n",
       "    </tr>\n",
       "    <tr>\n",
       "      <th>exp3_AAAGATGTCCAACCAA-1</th>\n",
       "      <td>CD4</td>\n",
       "      <td>8</td>\n",
       "      <td>exp3_8</td>\n",
       "      <td>exp3</td>\n",
       "      <td>exp3_Sample6</td>\n",
       "      <td>557.0</td>\n",
       "      <td>2349.0</td>\n",
       "      <td>6</td>\n",
       "      <td>1577</td>\n",
       "      <td>exp3</td>\n",
       "      <td>8.812261</td>\n",
       "      <td>Sample6</td>\n",
       "      <td>1577</td>\n",
       "      <td>7.363914</td>\n",
       "      <td>2349.0</td>\n",
       "      <td>7.762171</td>\n",
       "      <td>207.0</td>\n",
       "      <td>5.337538</td>\n",
       "      <td>8.812261</td>\n",
       "    </tr>\n",
       "    <tr>\n",
       "      <th>...</th>\n",
       "      <td>...</td>\n",
       "      <td>...</td>\n",
       "      <td>...</td>\n",
       "      <td>...</td>\n",
       "      <td>...</td>\n",
       "      <td>...</td>\n",
       "      <td>...</td>\n",
       "      <td>...</td>\n",
       "      <td>...</td>\n",
       "      <td>...</td>\n",
       "      <td>...</td>\n",
       "      <td>...</td>\n",
       "      <td>...</td>\n",
       "      <td>...</td>\n",
       "      <td>...</td>\n",
       "      <td>...</td>\n",
       "      <td>...</td>\n",
       "      <td>...</td>\n",
       "      <td>...</td>\n",
       "    </tr>\n",
       "    <tr>\n",
       "      <th>exp3_TTTATGCAGGAGCGAG-1</th>\n",
       "      <td>CD4</td>\n",
       "      <td>2</td>\n",
       "      <td>exp3_2</td>\n",
       "      <td>exp3</td>\n",
       "      <td>exp3_Sample6</td>\n",
       "      <td>662.0</td>\n",
       "      <td>2778.0</td>\n",
       "      <td>5</td>\n",
       "      <td>1503</td>\n",
       "      <td>exp3</td>\n",
       "      <td>0.575954</td>\n",
       "      <td>Sample6</td>\n",
       "      <td>1503</td>\n",
       "      <td>7.315884</td>\n",
       "      <td>2778.0</td>\n",
       "      <td>7.929846</td>\n",
       "      <td>16.0</td>\n",
       "      <td>2.833213</td>\n",
       "      <td>0.575954</td>\n",
       "    </tr>\n",
       "    <tr>\n",
       "      <th>exp3_TTTATGCCACACAGAG-1</th>\n",
       "      <td>CD4</td>\n",
       "      <td>13</td>\n",
       "      <td>exp3_13</td>\n",
       "      <td>exp3</td>\n",
       "      <td>exp3_Sample6</td>\n",
       "      <td>361.0</td>\n",
       "      <td>2543.0</td>\n",
       "      <td>6</td>\n",
       "      <td>1375</td>\n",
       "      <td>exp3</td>\n",
       "      <td>1.297680</td>\n",
       "      <td>Sample6</td>\n",
       "      <td>1375</td>\n",
       "      <td>7.226936</td>\n",
       "      <td>2543.0</td>\n",
       "      <td>7.841493</td>\n",
       "      <td>33.0</td>\n",
       "      <td>3.526361</td>\n",
       "      <td>1.297680</td>\n",
       "    </tr>\n",
       "    <tr>\n",
       "      <th>exp3_TTTCCTCAGTTACGGG-1</th>\n",
       "      <td>CD4</td>\n",
       "      <td>2</td>\n",
       "      <td>exp3_2</td>\n",
       "      <td>exp3</td>\n",
       "      <td>exp3_Sample6</td>\n",
       "      <td>955.0</td>\n",
       "      <td>4277.0</td>\n",
       "      <td>6</td>\n",
       "      <td>2102</td>\n",
       "      <td>exp3</td>\n",
       "      <td>1.285948</td>\n",
       "      <td>Sample6</td>\n",
       "      <td>2102</td>\n",
       "      <td>7.651120</td>\n",
       "      <td>4277.0</td>\n",
       "      <td>8.361241</td>\n",
       "      <td>55.0</td>\n",
       "      <td>4.025352</td>\n",
       "      <td>1.285948</td>\n",
       "    </tr>\n",
       "    <tr>\n",
       "      <th>exp3_TTTGGTTTCCGCATCT-1</th>\n",
       "      <td>CD4</td>\n",
       "      <td>40</td>\n",
       "      <td>exp3_40</td>\n",
       "      <td>exp3</td>\n",
       "      <td>exp3_Sample6</td>\n",
       "      <td>546.0</td>\n",
       "      <td>3368.0</td>\n",
       "      <td>6</td>\n",
       "      <td>1817</td>\n",
       "      <td>exp3</td>\n",
       "      <td>0.920428</td>\n",
       "      <td>Sample6</td>\n",
       "      <td>1817</td>\n",
       "      <td>7.505492</td>\n",
       "      <td>3368.0</td>\n",
       "      <td>8.122372</td>\n",
       "      <td>31.0</td>\n",
       "      <td>3.465736</td>\n",
       "      <td>0.920428</td>\n",
       "    </tr>\n",
       "    <tr>\n",
       "      <th>exp3_TTTGTCAAGCGTGAGT-1</th>\n",
       "      <td>CD4</td>\n",
       "      <td>1</td>\n",
       "      <td>exp3_1</td>\n",
       "      <td>exp3</td>\n",
       "      <td>exp3_Sample6</td>\n",
       "      <td>419.0</td>\n",
       "      <td>939.0</td>\n",
       "      <td>5</td>\n",
       "      <td>759</td>\n",
       "      <td>exp3</td>\n",
       "      <td>2.555911</td>\n",
       "      <td>Sample6</td>\n",
       "      <td>759</td>\n",
       "      <td>6.633318</td>\n",
       "      <td>939.0</td>\n",
       "      <td>6.845880</td>\n",
       "      <td>24.0</td>\n",
       "      <td>3.218876</td>\n",
       "      <td>2.555911</td>\n",
       "    </tr>\n",
       "  </tbody>\n",
       "</table>\n",
       "<p>636 rows × 19 columns</p>\n",
       "</div>"
      ],
      "text/plain": [
       "                        CD_type clone clone_ID experiment       hash_ID  \\\n",
       "CellID                                                                    \n",
       "exp3_AAACCTGGTCCGAAGA-1     CD4     2   exp3_2       exp3  exp3_Sample6   \n",
       "exp3_AAACCTGGTTGGTTTG-1     CD4     1   exp3_1       exp3  exp3_Sample6   \n",
       "exp3_AAACGGGAGATAGTCA-1     CD4     2   exp3_2       exp3  exp3_Sample6   \n",
       "exp3_AAAGATGAGGTGGGTT-1     CD4    12  exp3_12       exp3  exp3_Sample6   \n",
       "exp3_AAAGATGTCCAACCAA-1     CD4     8   exp3_8       exp3  exp3_Sample6   \n",
       "...                         ...   ...      ...        ...           ...   \n",
       "exp3_TTTATGCAGGAGCGAG-1     CD4     2   exp3_2       exp3  exp3_Sample6   \n",
       "exp3_TTTATGCCACACAGAG-1     CD4    13  exp3_13       exp3  exp3_Sample6   \n",
       "exp3_TTTCCTCAGTTACGGG-1     CD4     2   exp3_2       exp3  exp3_Sample6   \n",
       "exp3_TTTGGTTTCCGCATCT-1     CD4    40  exp3_40       exp3  exp3_Sample6   \n",
       "exp3_TTTGTCAAGCGTGAGT-1     CD4     1   exp3_1       exp3  exp3_Sample6   \n",
       "\n",
       "                         nCount_CH  nCount_RNA  nFeature_CH  nFeature_RNA  \\\n",
       "CellID                                                                      \n",
       "exp3_AAACCTGGTCCGAAGA-1      545.0      4069.0            6          2038   \n",
       "exp3_AAACCTGGTTGGTTTG-1      469.0      3501.0            5          1780   \n",
       "exp3_AAACGGGAGATAGTCA-1      361.0      3496.0            6          1704   \n",
       "exp3_AAAGATGAGGTGGGTT-1      446.0      4648.0            6          2018   \n",
       "exp3_AAAGATGTCCAACCAA-1      557.0      2349.0            6          1577   \n",
       "...                            ...         ...          ...           ...   \n",
       "exp3_TTTATGCAGGAGCGAG-1      662.0      2778.0            5          1503   \n",
       "exp3_TTTATGCCACACAGAG-1      361.0      2543.0            6          1375   \n",
       "exp3_TTTCCTCAGTTACGGG-1      955.0      4277.0            6          2102   \n",
       "exp3_TTTGGTTTCCGCATCT-1      546.0      3368.0            6          1817   \n",
       "exp3_TTTGTCAAGCGTGAGT-1      419.0       939.0            5           759   \n",
       "\n",
       "                        orig_ident  percent_mt     well  n_genes_by_counts  \\\n",
       "CellID                                                                       \n",
       "exp3_AAACCTGGTCCGAAGA-1       exp3    0.909314  Sample6               2038   \n",
       "exp3_AAACCTGGTTGGTTTG-1       exp3    1.142531  Sample6               1780   \n",
       "exp3_AAACGGGAGATAGTCA-1       exp3    1.344394  Sample6               1704   \n",
       "exp3_AAAGATGAGGTGGGTT-1       exp3    0.666954  Sample6               2018   \n",
       "exp3_AAAGATGTCCAACCAA-1       exp3    8.812261  Sample6               1577   \n",
       "...                            ...         ...      ...                ...   \n",
       "exp3_TTTATGCAGGAGCGAG-1       exp3    0.575954  Sample6               1503   \n",
       "exp3_TTTATGCCACACAGAG-1       exp3    1.297680  Sample6               1375   \n",
       "exp3_TTTCCTCAGTTACGGG-1       exp3    1.285948  Sample6               2102   \n",
       "exp3_TTTGGTTTCCGCATCT-1       exp3    0.920428  Sample6               1817   \n",
       "exp3_TTTGTCAAGCGTGAGT-1       exp3    2.555911  Sample6                759   \n",
       "\n",
       "                         log1p_n_genes_by_counts  total_counts  \\\n",
       "CellID                                                           \n",
       "exp3_AAACCTGGTCCGAAGA-1                 7.620215        4069.0   \n",
       "exp3_AAACCTGGTTGGTTTG-1                 7.484930        3501.0   \n",
       "exp3_AAACGGGAGATAGTCA-1                 7.441320        3496.0   \n",
       "exp3_AAAGATGAGGTGGGTT-1                 7.610358        4648.0   \n",
       "exp3_AAAGATGTCCAACCAA-1                 7.363914        2349.0   \n",
       "...                                          ...           ...   \n",
       "exp3_TTTATGCAGGAGCGAG-1                 7.315884        2778.0   \n",
       "exp3_TTTATGCCACACAGAG-1                 7.226936        2543.0   \n",
       "exp3_TTTCCTCAGTTACGGG-1                 7.651120        4277.0   \n",
       "exp3_TTTGGTTTCCGCATCT-1                 7.505492        3368.0   \n",
       "exp3_TTTGTCAAGCGTGAGT-1                 6.633318         939.0   \n",
       "\n",
       "                         log1p_total_counts  total_counts_mt  \\\n",
       "CellID                                                         \n",
       "exp3_AAACCTGGTCCGAAGA-1            8.311399             37.0   \n",
       "exp3_AAACCTGGTTGGTTTG-1            8.161090             40.0   \n",
       "exp3_AAACGGGAGATAGTCA-1            8.159660             47.0   \n",
       "exp3_AAAGATGAGGTGGGTT-1            8.444407             31.0   \n",
       "exp3_AAAGATGTCCAACCAA-1            7.762171            207.0   \n",
       "...                                     ...              ...   \n",
       "exp3_TTTATGCAGGAGCGAG-1            7.929846             16.0   \n",
       "exp3_TTTATGCCACACAGAG-1            7.841493             33.0   \n",
       "exp3_TTTCCTCAGTTACGGG-1            8.361241             55.0   \n",
       "exp3_TTTGGTTTCCGCATCT-1            8.122372             31.0   \n",
       "exp3_TTTGTCAAGCGTGAGT-1            6.845880             24.0   \n",
       "\n",
       "                         log1p_total_counts_mt  pct_counts_mt  \n",
       "CellID                                                         \n",
       "exp3_AAACCTGGTCCGAAGA-1               3.637586       0.909314  \n",
       "exp3_AAACCTGGTTGGTTTG-1               3.713572       1.142531  \n",
       "exp3_AAACGGGAGATAGTCA-1               3.871201       1.344394  \n",
       "exp3_AAAGATGAGGTGGGTT-1               3.465736       0.666954  \n",
       "exp3_AAAGATGTCCAACCAA-1               5.337538       8.812261  \n",
       "...                                        ...            ...  \n",
       "exp3_TTTATGCAGGAGCGAG-1               2.833213       0.575954  \n",
       "exp3_TTTATGCCACACAGAG-1               3.526361       1.297680  \n",
       "exp3_TTTCCTCAGTTACGGG-1               4.025352       1.285948  \n",
       "exp3_TTTGGTTTCCGCATCT-1               3.465736       0.920428  \n",
       "exp3_TTTGTCAAGCGTGAGT-1               3.218876       2.555911  \n",
       "\n",
       "[636 rows x 19 columns]"
      ]
     },
     "metadata": {},
     "output_type": "display_data"
    }
   ],
   "source": [
    "display(ad[ds].obs)"
   ]
  },
  {
   "cell_type": "code",
   "execution_count": 39,
   "id": "b3f218c5",
   "metadata": {},
   "outputs": [
    {
     "name": "stdout",
     "output_type": "stream",
     "text": [
      "CD4 and CD8 types in exp1_Sample2\n",
      "CD4    1597\n",
      "CD8     263\n",
      "Name: CD_type, dtype: int64\n",
      "================================================================================\n",
      "CD4 and CD8 types in exp1_Sample1\n",
      "CD4    840\n",
      "CD8    269\n",
      "Name: CD_type, dtype: int64\n",
      "================================================================================\n",
      "CD4 and CD8 types in exp1_Sample6\n",
      "CD4    1467\n",
      "CD8     294\n",
      "Name: CD_type, dtype: int64\n",
      "================================================================================\n",
      "CD4 and CD8 types in exp1_Sample5\n",
      "CD4    1538\n",
      "CD8     329\n",
      "Name: CD_type, dtype: int64\n",
      "================================================================================\n",
      "CD4 and CD8 types in exp1_Sample4\n",
      "CD4    1467\n",
      "CD8     536\n",
      "Name: CD_type, dtype: int64\n",
      "================================================================================\n",
      "CD4 and CD8 types in exp1_Sample3\n",
      "CD4    1519\n",
      "CD8     191\n",
      "Name: CD_type, dtype: int64\n",
      "================================================================================\n",
      "CD4 and CD8 types in exp2_Sample3\n",
      "CD4    972\n",
      "CD8      2\n",
      "Name: CD_type, dtype: int64\n",
      "================================================================================\n",
      "CD4 and CD8 types in exp2_Sample6\n",
      "CD4    1522\n",
      "CD8     113\n",
      "Name: CD_type, dtype: int64\n",
      "================================================================================\n",
      "CD4 and CD8 types in exp2_Sample4\n",
      "CD4    914\n",
      "CD8    184\n",
      "Name: CD_type, dtype: int64\n",
      "================================================================================\n",
      "CD4 and CD8 types in exp2_Sample1\n",
      "CD4    237\n",
      "CD8     24\n",
      "Name: CD_type, dtype: int64\n",
      "================================================================================\n",
      "CD4 and CD8 types in exp2_Sample2\n",
      "CD4    1083\n",
      "CD8     154\n",
      "Name: CD_type, dtype: int64\n",
      "================================================================================\n",
      "CD4 and CD8 types in exp2_Sample5\n",
      "CD4    1476\n",
      "CD8     348\n",
      "Name: CD_type, dtype: int64\n",
      "================================================================================\n",
      "CD4 and CD8 types in exp3_Sample2\n",
      "CD4    2275\n",
      "Name: CD_type, dtype: int64\n",
      "================================================================================\n",
      "CD4 and CD8 types in exp3_Sample1\n",
      "CD4    2948\n",
      "Name: CD_type, dtype: int64\n",
      "================================================================================\n",
      "CD4 and CD8 types in exp3_Sample4\n",
      "CD4    3426\n",
      "Name: CD_type, dtype: int64\n",
      "================================================================================\n",
      "CD4 and CD8 types in exp3_Sample3\n",
      "CD4    1962\n",
      "Name: CD_type, dtype: int64\n",
      "================================================================================\n",
      "CD4 and CD8 types in exp3_Sample5\n",
      "CD4    1177\n",
      "Name: CD_type, dtype: int64\n",
      "================================================================================\n",
      "CD4 and CD8 types in exp3_Sample6\n",
      "CD4    636\n",
      "Name: CD_type, dtype: int64\n",
      "================================================================================\n"
     ]
    }
   ],
   "source": [
    "for ds in datasets:\n",
    "    print('CD4 and CD8 types in {}'.format(ds))\n",
    "    print(ad[ds].obs.CD_type.value_counts())\n",
    "    hrule()\n",
    "    "
   ]
  },
  {
   "cell_type": "code",
   "execution_count": 40,
   "id": "9e98a867",
   "metadata": {},
   "outputs": [
    {
     "name": "stderr",
     "output_type": "stream",
     "text": [
      "Trying to set attribute `.var` of view, copying.\n"
     ]
    },
    {
     "name": "stdout",
     "output_type": "stream",
     "text": [
      "Filtering non-expressed genes.\n"
     ]
    },
    {
     "name": "stderr",
     "output_type": "stream",
     "text": [
      "Trying to set attribute `.var` of view, copying.\n",
      "Trying to set attribute `.var` of view, copying.\n",
      "Trying to set attribute `.var` of view, copying.\n",
      "Trying to set attribute `.var` of view, copying.\n"
     ]
    },
    {
     "name": "stdout",
     "output_type": "stream",
     "text": [
      "================================================================================\n",
      "Filtering non-expressed genes.\n",
      "================================================================================\n",
      "Filtering non-expressed genes.\n"
     ]
    },
    {
     "name": "stderr",
     "output_type": "stream",
     "text": [
      "Trying to set attribute `.var` of view, copying.\n",
      "Trying to set attribute `.var` of view, copying.\n",
      "Trying to set attribute `.var` of view, copying.\n"
     ]
    },
    {
     "name": "stdout",
     "output_type": "stream",
     "text": [
      "================================================================================\n",
      "Filtering non-expressed genes.\n"
     ]
    },
    {
     "name": "stderr",
     "output_type": "stream",
     "text": [
      "Trying to set attribute `.var` of view, copying.\n",
      "Trying to set attribute `.var` of view, copying.\n"
     ]
    },
    {
     "name": "stdout",
     "output_type": "stream",
     "text": [
      "================================================================================\n",
      "Filtering non-expressed genes.\n",
      "================================================================================\n",
      "Filtering non-expressed genes.\n"
     ]
    },
    {
     "name": "stderr",
     "output_type": "stream",
     "text": [
      "Trying to set attribute `.var` of view, copying.\n",
      "Trying to set attribute `.var` of view, copying.\n",
      "Trying to set attribute `.var` of view, copying.\n",
      "Trying to set attribute `.var` of view, copying.\n",
      "Trying to set attribute `.var` of view, copying.\n"
     ]
    },
    {
     "name": "stdout",
     "output_type": "stream",
     "text": [
      "================================================================================\n",
      "Filtering non-expressed genes.\n",
      "================================================================================\n",
      "Filtering non-expressed genes.\n"
     ]
    },
    {
     "name": "stderr",
     "output_type": "stream",
     "text": [
      "Trying to set attribute `.var` of view, copying.\n",
      "Trying to set attribute `.var` of view, copying.\n",
      "Trying to set attribute `.var` of view, copying.\n",
      "Trying to set attribute `.var` of view, copying.\n",
      "Trying to set attribute `.var` of view, copying.\n"
     ]
    },
    {
     "name": "stdout",
     "output_type": "stream",
     "text": [
      "================================================================================\n",
      "Filtering non-expressed genes.\n",
      "================================================================================\n",
      "Filtering non-expressed genes.\n",
      "================================================================================\n",
      "Filtering non-expressed genes.\n"
     ]
    },
    {
     "name": "stderr",
     "output_type": "stream",
     "text": [
      "Trying to set attribute `.var` of view, copying.\n",
      "Trying to set attribute `.var` of view, copying.\n",
      "Trying to set attribute `.var` of view, copying.\n",
      "Trying to set attribute `.var` of view, copying.\n"
     ]
    },
    {
     "name": "stdout",
     "output_type": "stream",
     "text": [
      "================================================================================\n",
      "Filtering non-expressed genes.\n",
      "================================================================================\n",
      "Filtering non-expressed genes.\n"
     ]
    },
    {
     "name": "stderr",
     "output_type": "stream",
     "text": [
      "Trying to set attribute `.var` of view, copying.\n",
      "Trying to set attribute `.var` of view, copying.\n",
      "Trying to set attribute `.var` of view, copying.\n"
     ]
    },
    {
     "name": "stdout",
     "output_type": "stream",
     "text": [
      "================================================================================\n",
      "Filtering non-expressed genes.\n"
     ]
    },
    {
     "name": "stderr",
     "output_type": "stream",
     "text": [
      "Trying to set attribute `.var` of view, copying.\n",
      "Trying to set attribute `.var` of view, copying.\n"
     ]
    },
    {
     "name": "stdout",
     "output_type": "stream",
     "text": [
      "================================================================================\n",
      "Filtering non-expressed genes.\n"
     ]
    },
    {
     "name": "stderr",
     "output_type": "stream",
     "text": [
      "Trying to set attribute `.var` of view, copying.\n",
      "Trying to set attribute `.var` of view, copying.\n",
      "Trying to set attribute `.var` of view, copying.\n",
      "Trying to set attribute `.var` of view, copying.\n",
      "Trying to set attribute `.var` of view, copying.\n"
     ]
    },
    {
     "name": "stdout",
     "output_type": "stream",
     "text": [
      "================================================================================\n",
      "Filtering non-expressed genes.\n",
      "================================================================================\n",
      "Filtering non-expressed genes.\n"
     ]
    },
    {
     "name": "stderr",
     "output_type": "stream",
     "text": [
      "Trying to set attribute `.var` of view, copying.\n",
      "Trying to set attribute `.var` of view, copying.\n"
     ]
    },
    {
     "name": "stdout",
     "output_type": "stream",
     "text": [
      "================================================================================\n",
      "Filtering non-expressed genes.\n",
      "================================================================================\n"
     ]
    }
   ],
   "source": [
    "ads_8 = {}\n",
    "ads_4 = {}\n",
    "for ds in datasets:\n",
    "    print('Filtering non-expressed genes.')\n",
    "    ads_4[ds] = ad[ds][ad[ds].obs.CD_type == 'CD4']\n",
    "    ads_8[ds] = ad[ds][ad[ds].obs.CD_type == 'CD8']\n",
    "    sc.pp.filter_genes(ads_4[ds], min_counts=1) # At least 1 count.\n",
    "    sc.pp.filter_genes(ads_8[ds], min_counts=1) # At least 1 count.\n",
    "    hrule()"
   ]
  },
  {
   "cell_type": "markdown",
   "id": "ce1d3bf3",
   "metadata": {},
   "source": [
    "Now we create our loom files for CD4 and CD8 T-=cells within each dataset."
   ]
  },
  {
   "cell_type": "code",
   "execution_count": 41,
   "id": "09a17469",
   "metadata": {},
   "outputs": [
    {
     "data": {
      "text/plain": [
       "array(['exp1_Sample2', 'exp1_Sample1', 'exp1_Sample6', 'exp1_Sample5',\n",
       "       'exp1_Sample4', 'exp1_Sample3', 'exp2_Sample3', 'exp2_Sample6',\n",
       "       'exp2_Sample4', 'exp2_Sample1', 'exp2_Sample2', 'exp2_Sample5',\n",
       "       'exp3_Sample2', 'exp3_Sample1', 'exp3_Sample4', 'exp3_Sample3',\n",
       "       'exp3_Sample5', 'exp3_Sample6'], dtype=object)"
      ]
     },
     "execution_count": 41,
     "metadata": {},
     "output_type": "execute_result"
    }
   ],
   "source": [
    "datasets"
   ]
  },
  {
   "cell_type": "code",
   "execution_count": 42,
   "id": "d2c79ea7",
   "metadata": {
    "scrolled": true
   },
   "outputs": [],
   "source": [
    "for ds in datasets:\n",
    "    fn = 'Processed/JM_10X_'+ds\n",
    "    if ads_4[ds].n_obs > 0:\n",
    "        ads_4[ds].write_loom(fn+'_CD4.loom')\n",
    "    if ads_8[ds].n_obs > 0:\n",
    "        ads_8[ds].write_loom(fn+'_CD8.loom')"
   ]
  }
 ],
 "metadata": {
  "kernelspec": {
   "display_name": "Python 3",
   "language": "python",
   "name": "python3"
  },
  "language_info": {
   "codemirror_mode": {
    "name": "ipython",
    "version": 3
   },
   "file_extension": ".py",
   "mimetype": "text/x-python",
   "name": "python",
   "nbconvert_exporter": "python",
   "pygments_lexer": "ipython3",
   "version": "3.8.8"
  }
 },
 "nbformat": 4,
 "nbformat_minor": 5
}
